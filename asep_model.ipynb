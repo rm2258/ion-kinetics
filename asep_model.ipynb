{
 "cells": [
  {
   "cell_type": "code",
   "execution_count": 1,
   "id": "810f09c0-ee4f-4779-a509-23651d33979d",
   "metadata": {
    "jupyter": {
     "source_hidden": true
    }
   },
   "outputs": [],
   "source": [
    "import matplotlib.pyplot as plt\n",
    "import numpy as np\n",
    "import scipy.linalg\n",
    "import sklearn.decomposition\n",
    "import matplotlib.animation as animation\n",
    "import openmm.unit as u\n",
    "import deeptime as dt\n",
    "import networkx as nx\n",
    "\n",
    "\n",
    "from cycler import cycler\n",
    "plt.rcParams['font.size'] = 7\n",
    "# plt.rcParams['font.family'] = 'Calibri'\n",
    "plt.rcParams['font.family'] = 'Ubuntu Sans'\n",
    "plt.rcParams['mathtext.default'] = 'regular'\n",
    "\n",
    "plt.rcParams['axes.labelpad'] = 0.1\n",
    "plt.rcParams['axes.labelsize'] = 7\n",
    "plt.rcParams['axes.linewidth'] = 0.7\n",
    "colorList = ['#000000', '#FF0000', '#0000FF', '#FF64FF',\n",
    "             '#2192E5', '#009900', '#FF8700', '#F2E100', \n",
    "             '#FFDE3B', '#5A1AF5']\n",
    "plt.rcParams['axes.prop_cycle'] = cycler(color=colorList)\n",
    "plt.rcParams['axes.spines.right'] = True\n",
    "plt.rcParams['axes.spines.top'] = True\n",
    "plt.rcParams['axes.titlepad'] = 0.1\n",
    "plt.rcParams['axes.titlesize'] = 7*1.2\n",
    "\n",
    "plt.rcParams['figure.dpi'] = 300\n",
    "plt.rcParams['figure.figsize'] = (3.25, 2.5)\n",
    "plt.rcParams['figure.labelsize'] = 7\n",
    "plt.rcParams['figure.titlesize'] = 7*1.2\n",
    "\n",
    "plt.rcParams['legend.fancybox'] = False\n",
    "plt.rcParams['legend.fontsize'] = 7\n",
    "plt.rcParams['legend.frameon'] = False\n",
    "plt.rcParams['legend.markerscale'] = 1\n",
    "plt.rcParams['legend.numpoints'] = 1\n",
    "plt.rcParams['legend.title_fontsize'] = 7*1.2\n",
    "\n",
    "plt.rcParams['lines.dash_capstyle'] = 'round'\n",
    "plt.rcParams['lines.dash_joinstyle'] = 'round'\n",
    "plt.rcParams['lines.linewidth'] = 1\n",
    "plt.rcParams['lines.markersize'] = 1\n",
    "\n",
    "plt.rcParams['savefig.dpi'] = 300\n",
    "plt.rcParams['savefig.transparent'] = True\n",
    "plt.rcParams['savefig.bbox'] = 'tight'\n",
    "\n",
    "plt.rcParams['xtick.direction'] = 'in'\n",
    "plt.rcParams['xtick.labelsize'] = 7\n",
    "plt.rcParams['xtick.major.size'] = 3\n",
    "# plt.rcParams['xtick.major.top'] = True\n",
    "plt.rcParams['xtick.major.width'] = 0.6\n",
    "plt.rcParams['xtick.minor.size'] = 1.5\n",
    "plt.rcParams['xtick.minor.visible'] = True\n",
    "# plt.rcParams['xtick.minor.top'] = True\n",
    "plt.rcParams['xtick.minor.width'] = 0.6\n",
    "plt.rcParams['xtick.top'] = True\n",
    "\n",
    "plt.rcParams['ytick.direction'] = 'in'\n",
    "plt.rcParams['ytick.labelsize'] = 7\n",
    "plt.rcParams['ytick.major.size'] = 3\n",
    "# plt.rcParams['ytick.major.right'] = True\n",
    "plt.rcParams['ytick.major.width'] = 0.6\n",
    "plt.rcParams['ytick.minor.size'] = 1.5\n",
    "# plt.rcParams['ytick.minor.right'] = True\n",
    "plt.rcParams['ytick.minor.width'] = 0.6\n",
    "plt.rcParams['ytick.right'] = True\n",
    "plt.rcParams['ytick.minor.visible'] = True"
   ]
  },
  {
   "cell_type": "code",
   "execution_count": 23,
   "id": "791103a7-00b4-47bc-b2a1-33d5fa021e1a",
   "metadata": {
    "collapsed": true,
    "jupyter": {
     "outputs_hidden": true,
     "source_hidden": true
    },
    "scrolled": true
   },
   "outputs": [
    {
     "data": {
      "text/plain": [
       "['/home/ram/miniconda3/envs/deeptime/fonts/SourceCodePro-Bold.ttf',\n",
       " '/usr/share/fonts/truetype/ubuntu/UbuntuSansMono[wght].ttf',\n",
       " '/home/ram/miniconda3/envs/deeptime/fonts/Ubuntu-LI.ttf',\n",
       " '/home/ram/miniconda3/envs/deeptime/fonts/Ubuntu-RI.ttf',\n",
       " '/home/ram/miniconda3/envs/deeptime/fonts/Ubuntu-MI.ttf',\n",
       " '/usr/share/fonts/truetype/dejavu/DejaVuSans.ttf',\n",
       " '/home/ram/miniconda3/envs/deeptime/fonts/Ubuntu-R.ttf',\n",
       " '/home/ram/miniconda3/envs/deeptime/fonts/SourceCodePro-Black.ttf',\n",
       " '/home/ram/miniconda3/envs/deeptime/fonts/SourceCodePro-BoldIt.ttf',\n",
       " '/usr/share/fonts/truetype/ubuntu/UbuntuMono[wght].ttf',\n",
       " '/usr/share/fonts/truetype/dejavu/DejaVuSansMono-BoldOblique.ttf',\n",
       " '/usr/share/fonts/truetype/ubuntu/Ubuntu-B.ttf',\n",
       " '/usr/share/fonts/truetype/ubuntu/Ubuntu-L.ttf',\n",
       " '/home/ram/miniconda3/envs/deeptime/fonts/Ubuntu-B.ttf',\n",
       " '/home/ram/miniconda3/envs/deeptime/fonts/SourceCodePro-ExtraLight.ttf',\n",
       " '/usr/share/fonts/truetype/dejavu/DejaVuSerif.ttf',\n",
       " '/usr/share/fonts/truetype/ubuntu/Ubuntu-M.ttf',\n",
       " '/home/ram/miniconda3/envs/deeptime/fonts/Ubuntu-BI.ttf',\n",
       " '/home/ram/miniconda3/envs/deeptime/fonts/SourceCodePro-LightIt.ttf',\n",
       " '/home/ram/miniconda3/envs/deeptime/fonts/Ubuntu-C.ttf',\n",
       " '/usr/share/fonts/truetype/dejavu/DejaVuSansMono-Oblique.ttf',\n",
       " '/home/ram/miniconda3/envs/deeptime/fonts/SourceCodePro-BlackIt.ttf',\n",
       " '/usr/share/fonts/truetype/dejavu/DejaVuSerif-Bold.ttf',\n",
       " '/usr/share/fonts/truetype/ubuntu/Ubuntu-Th.ttf',\n",
       " '/home/ram/miniconda3/envs/deeptime/fonts/SourceCodePro-SemiboldIt.ttf',\n",
       " '/usr/share/fonts/truetype/ubuntu/UbuntuMono-BI.ttf',\n",
       " '/home/ram/miniconda3/envs/deeptime/fonts/UbuntuMono-B.ttf',\n",
       " '/home/ram/miniconda3/envs/deeptime/fonts/SourceCodePro-Light.ttf',\n",
       " '/home/ram/miniconda3/envs/deeptime/fonts/SourceCodePro-Regular.ttf',\n",
       " '/home/ram/miniconda3/envs/deeptime/fonts/DejaVuSans.ttf',\n",
       " '/usr/share/fonts/truetype/ubuntu/UbuntuMono-RI.ttf',\n",
       " '/home/ram/miniconda3/envs/deeptime/fonts/UbuntuMono-R.ttf',\n",
       " '/usr/share/fonts/truetype/ubuntu/Ubuntu-RI.ttf',\n",
       " '/home/ram/miniconda3/envs/deeptime/fonts/SourceCodePro-Medium.ttf',\n",
       " '/home/ram/miniconda3/envs/deeptime/fonts/SourceCodePro-It.ttf',\n",
       " '/usr/share/fonts/truetype/ubuntu/Ubuntu-R.ttf',\n",
       " '/usr/share/fonts/truetype/ubuntu/UbuntuMono-Italic[wght].ttf',\n",
       " '/home/ram/miniconda3/envs/deeptime/fonts/UbuntuMono-RI.ttf',\n",
       " '/home/ram/miniconda3/envs/deeptime/fonts/Ubuntu-L.ttf',\n",
       " '/usr/share/fonts/truetype/ubuntu/Ubuntu-BI.ttf',\n",
       " '/usr/share/fonts/truetype/dejavu/DejaVuSansMono-Bold.ttf',\n",
       " '/usr/share/fonts/truetype/ubuntu/UbuntuSansMono-Italic[wght].ttf',\n",
       " '/home/ram/miniconda3/envs/deeptime/fonts/Inconsolata-Bold.ttf',\n",
       " '/usr/share/fonts/truetype/dejavu/DejaVuSansMono.ttf',\n",
       " '/usr/share/fonts/truetype/ubuntu/Ubuntu-C.ttf',\n",
       " '/home/ram/miniconda3/envs/deeptime/fonts/SourceCodePro-Semibold.ttf',\n",
       " '/usr/share/fonts/truetype/ubuntu/Ubuntu-MI.ttf',\n",
       " '/usr/share/fonts/truetype/ubuntu/UbuntuMono-R.ttf',\n",
       " '/usr/share/fonts/truetype/ubuntu/UbuntuSans[wdth,wght].ttf',\n",
       " '/usr/share/fonts/truetype/ubuntu/UbuntuMono-B.ttf',\n",
       " '/usr/share/fonts/truetype/ubuntu/Ubuntu-Italic[wdth,wght].ttf',\n",
       " '/home/ram/miniconda3/envs/deeptime/fonts/SourceCodePro-ExtraLightIt.ttf',\n",
       " '/home/ram/miniconda3/envs/deeptime/fonts/UbuntuMono-BI.ttf',\n",
       " '/usr/share/fonts/truetype/ubuntu/UbuntuSans-Italic[wdth,wght].ttf',\n",
       " '/usr/share/fonts/truetype/ubuntu/Ubuntu-LI.ttf',\n",
       " '/home/ram/miniconda3/envs/deeptime/fonts/Ubuntu-M.ttf',\n",
       " '/home/ram/miniconda3/envs/deeptime/fonts/Inconsolata-Regular.ttf',\n",
       " '/usr/share/fonts/truetype/ubuntu/Ubuntu[wdth,wght].ttf',\n",
       " '/home/ram/miniconda3/envs/deeptime/fonts/SourceCodePro-MediumIt.ttf',\n",
       " '/usr/share/fonts/truetype/dejavu/DejaVuSans-Bold.ttf']"
      ]
     },
     "execution_count": 23,
     "metadata": {},
     "output_type": "execute_result"
    }
   ],
   "source": [
    "import matplotlib.font_manager\n",
    "matplotlib.font_manager.findSystemFonts(fontpaths=None,\n",
    "                                       fontext='ttf')"
   ]
  },
  {
   "cell_type": "code",
   "execution_count": 38,
   "id": "b9cb6c24-f20a-44a7-b07f-bfeb0b0511f6",
   "metadata": {
    "collapsed": true,
    "jupyter": {
     "outputs_hidden": true,
     "source_hidden": true
    },
    "scrolled": true
   },
   "outputs": [
    {
     "data": {
      "text/plain": [
       "['/mnt/c/Windows/Fonts/seguibl.ttf',\n",
       " '/mnt/c/Windows/Fonts/msyh.ttc',\n",
       " '/mnt/c/Windows/Fonts/verdana.ttf',\n",
       " '/mnt/c/Windows/Fonts/YuGothR.ttc',\n",
       " '/mnt/c/Windows/Fonts/corbeli.ttf',\n",
       " '/mnt/c/Windows/Fonts/segoepr.ttf',\n",
       " '/mnt/c/Windows/Fonts/calibri.ttf',\n",
       " '/mnt/c/Windows/Fonts/gadugi.ttf',\n",
       " '/mnt/c/Windows/Fonts/Candarali.ttf',\n",
       " '/mnt/c/Windows/Fonts/holomdl2.ttf',\n",
       " '/mnt/c/Windows/Fonts/Candarab.ttf',\n",
       " '/mnt/c/Windows/Fonts/mvboli.ttf',\n",
       " '/mnt/c/Windows/Fonts/msyhl.ttc',\n",
       " '/mnt/c/Windows/Fonts/corbelb.ttf',\n",
       " '/mnt/c/Windows/Fonts/seguihis.ttf',\n",
       " '/mnt/c/Windows/Fonts/calibril.ttf',\n",
       " '/mnt/c/Windows/Fonts/cambriab.ttf',\n",
       " '/mnt/c/Windows/Fonts/framdit.ttf',\n",
       " '/mnt/c/Windows/Fonts/taileb.ttf',\n",
       " '/mnt/c/Windows/Fonts/courbi.ttf',\n",
       " '/mnt/c/Windows/Fonts/ntailu.ttf',\n",
       " '/mnt/c/Windows/Fonts/Candara.ttf',\n",
       " '/mnt/c/Windows/Fonts/framd.ttf',\n",
       " '/mnt/c/Windows/Fonts/malgun.ttf',\n",
       " '/mnt/c/Windows/Fonts/constan.ttf',\n",
       " '/mnt/c/Windows/Fonts/Inkfree.ttf',\n",
       " '/mnt/c/Windows/Fonts/msjh.ttc',\n",
       " '/mnt/c/Windows/Fonts/comicbd.ttf',\n",
       " '/mnt/c/Windows/Fonts/phagspa.ttf',\n",
       " '/mnt/c/Windows/Fonts/cour.ttf',\n",
       " '/mnt/c/Windows/Fonts/arialbi.ttf',\n",
       " '/mnt/c/Windows/Fonts/simsunb.ttf',\n",
       " '/mnt/c/Windows/Fonts/ariali.ttf',\n",
       " '/mnt/c/Windows/Fonts/segoeui.ttf',\n",
       " '/mnt/c/Windows/Fonts/l_10646.ttf',\n",
       " '/mnt/c/Windows/Fonts/gadugib.ttf',\n",
       " '/mnt/c/Windows/Fonts/phagspab.ttf',\n",
       " '/mnt/c/Windows/Fonts/georgia.ttf',\n",
       " '/mnt/c/Windows/Fonts/corbell.ttf',\n",
       " '/mnt/c/Windows/Fonts/LeelaUIb.ttf',\n",
       " '/mnt/c/Windows/Fonts/Candaraz.ttf',\n",
       " '/mnt/c/Windows/Fonts/mingliub.ttc',\n",
       " '/mnt/c/Windows/Fonts/wingding.ttf',\n",
       " '/mnt/c/Windows/Fonts/consolab.ttf',\n",
       " '/mnt/c/Windows/Fonts/himalaya.ttf',\n",
       " '/mnt/c/Windows/Fonts/arial.ttf',\n",
       " '/mnt/c/Windows/Fonts/calibriz.ttf',\n",
       " '/mnt/c/Windows/Fonts/msjhbd.ttc',\n",
       " '/mnt/c/Windows/Fonts/calibrib.ttf',\n",
       " '/mnt/c/Windows/Fonts/msgothic.ttc',\n",
       " '/mnt/c/Windows/Fonts/tahoma.ttf',\n",
       " '/mnt/c/Windows/Fonts/comici.ttf',\n",
       " '/mnt/c/Windows/Fonts/ntailub.ttf',\n",
       " '/mnt/c/Windows/Fonts/seguisym.ttf',\n",
       " '/mnt/c/Windows/Fonts/taile.ttf',\n",
       " '/mnt/c/Windows/Fonts/msyi.ttf',\n",
       " '/mnt/c/Windows/Fonts/Candaral.ttf',\n",
       " '/mnt/c/Windows/Fonts/calibrili.ttf',\n",
       " '/mnt/c/Windows/Fonts/georgiai.ttf',\n",
       " '/mnt/c/Windows/Fonts/seguisbi.ttf',\n",
       " '/mnt/c/Windows/Fonts/YuGothB.ttc',\n",
       " '/mnt/c/Windows/Fonts/seguisb.ttf',\n",
       " '/mnt/c/Windows/Fonts/timesbi.ttf',\n",
       " '/mnt/c/Windows/Fonts/sylfaen.ttf',\n",
       " '/mnt/c/Windows/Fonts/SegoeIcons.ttf',\n",
       " '/mnt/c/Windows/Fonts/times.ttf',\n",
       " '/mnt/c/Windows/Fonts/LeelawUI.ttf',\n",
       " '/mnt/c/Windows/Fonts/Gabriola.ttf',\n",
       " '/mnt/c/Windows/Fonts/segmdl2.ttf',\n",
       " '/mnt/c/Windows/Fonts/trebucbi.ttf',\n",
       " '/mnt/c/Windows/Fonts/SitkaVF.ttf',\n",
       " '/mnt/c/Windows/Fonts/constanz.ttf',\n",
       " '/mnt/c/Windows/Fonts/cambriai.ttf',\n",
       " '/mnt/c/Windows/Fonts/pala.ttf',\n",
       " '/mnt/c/Windows/Fonts/impact.ttf',\n",
       " '/mnt/c/Windows/Fonts/symbol.ttf',\n",
       " '/mnt/c/Windows/Fonts/segoeuil.ttf',\n",
       " '/mnt/c/Windows/Fonts/malgunbd.ttf',\n",
       " '/mnt/c/Windows/Fonts/tahomabd.ttf',\n",
       " '/mnt/c/Windows/Fonts/verdanai.ttf',\n",
       " '/mnt/c/Windows/Fonts/comicz.ttf',\n",
       " '/mnt/c/Windows/Fonts/webdings.ttf',\n",
       " '/mnt/c/Windows/Fonts/mmrtextb.ttf',\n",
       " '/mnt/c/Windows/Fonts/cambria.ttc',\n",
       " '/mnt/c/Windows/Fonts/consola.ttf',\n",
       " '/mnt/c/Windows/Fonts/bahnschrift.ttf',\n",
       " '/mnt/c/Windows/Fonts/NirmalaB.ttf',\n",
       " '/mnt/c/Windows/Fonts/corbel.ttf',\n",
       " '/mnt/c/Windows/Fonts/constanb.ttf',\n",
       " '/mnt/c/Windows/Fonts/trebucit.ttf',\n",
       " '/mnt/c/Windows/Fonts/micross.ttf',\n",
       " '/mnt/c/Windows/Fonts/corbelz.ttf',\n",
       " '/mnt/c/Windows/Fonts/comic.ttf',\n",
       " '/mnt/c/Windows/Fonts/segoeuisl.ttf',\n",
       " '/mnt/c/Windows/Fonts/consolaz.ttf',\n",
       " '/mnt/c/Windows/Fonts/palab.ttf',\n",
       " '/mnt/c/Windows/Fonts/Nirmala.ttf',\n",
       " '/mnt/c/Windows/Fonts/timesbd.ttf',\n",
       " '/mnt/c/Windows/Fonts/seguiemj.ttf',\n",
       " '/mnt/c/Windows/Fonts/YuGothL.ttc',\n",
       " '/mnt/c/Windows/Fonts/couri.ttf',\n",
       " '/mnt/c/Windows/Fonts/msjhl.ttc',\n",
       " '/mnt/c/Windows/Fonts/msyhbd.ttc',\n",
       " '/mnt/c/Windows/Fonts/marlett.ttf',\n",
       " '/mnt/c/Windows/Fonts/georgiab.ttf',\n",
       " '/mnt/c/Windows/Fonts/timesi.ttf',\n",
       " '/mnt/c/Windows/Fonts/segoesc.ttf',\n",
       " '/mnt/c/Windows/Fonts/georgiaz.ttf',\n",
       " '/mnt/c/Windows/Fonts/arialbd.ttf',\n",
       " '/mnt/c/Windows/Fonts/ariblk.ttf',\n",
       " '/mnt/c/Windows/Fonts/monbaiti.ttf',\n",
       " '/mnt/c/Windows/Fonts/SimsunExtG.ttf',\n",
       " '/mnt/c/Windows/Fonts/seguibli.ttf',\n",
       " '/mnt/c/Windows/Fonts/cambriaz.ttf',\n",
       " '/mnt/c/Windows/Fonts/seguisli.ttf',\n",
       " '/mnt/c/Windows/Fonts/trebuc.ttf',\n",
       " '/mnt/c/Windows/Fonts/verdanab.ttf',\n",
       " '/mnt/c/Windows/Fonts/ebrima.ttf',\n",
       " '/mnt/c/Windows/Fonts/SansSerifCollection.ttf',\n",
       " '/mnt/c/Windows/Fonts/mmrtext.ttf',\n",
       " '/mnt/c/Windows/Fonts/calibrii.ttf',\n",
       " '/mnt/c/Windows/Fonts/segoeuib.ttf',\n",
       " '/mnt/c/Windows/Fonts/seguili.ttf',\n",
       " '/mnt/c/Windows/Fonts/lucon.ttf',\n",
       " '/mnt/c/Windows/Fonts/simsun.ttc',\n",
       " '/mnt/c/Windows/Fonts/SegUIVar.ttf',\n",
       " '/mnt/c/Windows/Fonts/javatext.ttf',\n",
       " '/mnt/c/Windows/Fonts/SitkaVF-Italic.ttf',\n",
       " '/mnt/c/Windows/Fonts/NirmalaS.ttf',\n",
       " '/mnt/c/Windows/Fonts/verdanaz.ttf',\n",
       " '/mnt/c/Windows/Fonts/palai.ttf',\n",
       " '/mnt/c/Windows/Fonts/consolai.ttf',\n",
       " '/mnt/c/Windows/Fonts/constani.ttf',\n",
       " '/mnt/c/Windows/Fonts/palabi.ttf',\n",
       " '/mnt/c/Windows/Fonts/trebucbd.ttf',\n",
       " '/mnt/c/Windows/Fonts/segoeprb.ttf',\n",
       " '/mnt/c/Windows/Fonts/segoeuii.ttf',\n",
       " '/mnt/c/Windows/Fonts/Candarai.ttf',\n",
       " '/mnt/c/Windows/Fonts/courbd.ttf',\n",
       " '/mnt/c/Windows/Fonts/malgunsl.ttf',\n",
       " '/mnt/c/Windows/Fonts/ebrimabd.ttf',\n",
       " '/mnt/c/Windows/Fonts/segoeuiz.ttf',\n",
       " '/mnt/c/Windows/Fonts/YuGothM.ttc',\n",
       " '/mnt/c/Windows/Fonts/LeelUIsl.ttf',\n",
       " '/mnt/c/Windows/Fonts/segoescb.ttf',\n",
       " '/mnt/c/Windows/Fonts/corbelli.ttf']"
      ]
     },
     "execution_count": 38,
     "metadata": {},
     "output_type": "execute_result"
    }
   ],
   "source": [
    "# import matplotlib.font_manager\n",
    "matplotlib.font_manager.findSystemFonts(fontpaths='/mnt/c/Windows/Fonts/',\n",
    "                                       fontext='ttf')"
   ]
  },
  {
   "cell_type": "code",
   "execution_count": 41,
   "id": "8e09f2b9-08fd-4382-a498-f6437a190c45",
   "metadata": {
    "collapsed": true,
    "jupyter": {
     "outputs_hidden": true,
     "source_hidden": true
    }
   },
   "outputs": [
    {
     "name": "stdout",
     "output_type": "stream",
     "text": [
      "Calibri\n"
     ]
    }
   ],
   "source": [
    "fp = matplotlib.font_manager.FontProperties(fname=r\"/mnt/c/Windows/Fonts/calibri.ttf\")\n",
    "print(fp.get_name())"
   ]
  },
  {
   "cell_type": "code",
   "execution_count": 56,
   "id": "3559f66a-270d-4ab9-aab6-2cb14f704c30",
   "metadata": {
    "collapsed": true,
    "jupyter": {
     "outputs_hidden": true,
     "source_hidden": true
    },
    "scrolled": true
   },
   "outputs": [
    {
     "data": {
      "text/plain": [
       "['DejaVu Serif Display',\n",
       " 'STIXSizeThreeSym',\n",
       " 'Ubuntu Condensed',\n",
       " 'cmss10',\n",
       " 'cmr10',\n",
       " 'STIXNonUnicode',\n",
       " 'cmex10',\n",
       " 'Ubuntu Sans',\n",
       " 'STIXSizeOneSym',\n",
       " 'DejaVu Sans Mono',\n",
       " 'Ubuntu Mono',\n",
       " 'STIXSizeFourSym',\n",
       " 'Source Code Pro',\n",
       " 'Ubuntu Sans Mono',\n",
       " 'STIXSizeFiveSym',\n",
       " 'cmsy10',\n",
       " 'STIXGeneral',\n",
       " 'DejaVu Sans',\n",
       " 'Inconsolata',\n",
       " 'cmb10',\n",
       " 'Ubuntu',\n",
       " 'DejaVu Sans Display',\n",
       " 'STIXSizeTwoSym',\n",
       " 'cmtt10',\n",
       " 'cmmi10',\n",
       " 'DejaVu Serif']"
      ]
     },
     "execution_count": 56,
     "metadata": {},
     "output_type": "execute_result"
    }
   ],
   "source": [
    "matplotlib.font_manager.get_font_names()"
   ]
  },
  {
   "cell_type": "code",
   "execution_count": 62,
   "id": "09930137-12d6-45b3-a2d2-34dbe4a3864d",
   "metadata": {
    "collapsed": true,
    "jupyter": {
     "outputs_hidden": true,
     "source_hidden": true
    }
   },
   "outputs": [
    {
     "ename": "AttributeError",
     "evalue": "module 'matplotlib.font_manager' has no attribute '_rebuild'",
     "output_type": "error",
     "traceback": [
      "\u001b[31m---------------------------------------------------------------------------\u001b[39m",
      "\u001b[31mAttributeError\u001b[39m                            Traceback (most recent call last)",
      "\u001b[36mCell\u001b[39m\u001b[36m \u001b[39m\u001b[32mIn[62]\u001b[39m\u001b[32m, line 1\u001b[39m\n\u001b[32m----> \u001b[39m\u001b[32m1\u001b[39m \u001b[43mmatplotlib\u001b[49m\u001b[43m.\u001b[49m\u001b[43mfont_manager\u001b[49m\u001b[43m.\u001b[49m\u001b[43m_rebuild\u001b[49m()\n",
      "\u001b[31mAttributeError\u001b[39m: module 'matplotlib.font_manager' has no attribute '_rebuild'"
     ]
    }
   ],
   "source": [
    "matplotlib.font_manager._rebuild()"
   ]
  },
  {
   "cell_type": "markdown",
   "id": "cbaccf5c-453d-490f-b1fc-653836f0e751",
   "metadata": {},
   "source": [
    "# Utils"
   ]
  },
  {
   "cell_type": "code",
   "execution_count": 2,
   "id": "c1c8ea39-4f92-4c68-9b05-a8b95aa876c1",
   "metadata": {
    "jupyter": {
     "source_hidden": true
    }
   },
   "outputs": [],
   "source": [
    "def SVD(rateMatrix):\n",
    "    \"\"\" Utility function for SVD of Q matrix\n",
    "        returns the Eigenvalues and Eigenvectors of the Rate Matrix Q\n",
    "    \"\"\"\n",
    "    # it is transpose because the function returns \n",
    "    # the right eigenvec's but we want left eigenvectors\n",
    "    eig_val, eig_vec = np.linalg.eig(rateMatrix.T)\n",
    "    return (eig_val, eig_vec)\n",
    "\n",
    "def Prob_t(uniqueStates, val, vec, time):\n",
    "    \"\"\" returns the time evolution of the probabilites\n",
    "        Note that this can be used for simulating the time evolution of the probabilities and\n",
    "        as the starting point for the construction of a Transition Matrix at the\n",
    "        desired lagtime\n",
    "    \"\"\"\n",
    "    # this works because of how numpy casts when performing the operation\n",
    "    D = np.eye(uniqueStates) * np.exp(val * time)\n",
    "    return np.linalg.inv(vec.T) @ D @ vec.T\n",
    "\n",
    "def MSMtraj(steps, transitionMatrix):\n",
    "    \"\"\" returns the MSM and a discrete time discrete state \n",
    "        trajectory from the Transition Matrix\n",
    "        at the spicified lagtime of shape (steps,)\n",
    "    \"\"\"\n",
    "    MSM_true = dt.markov.msm.MarkovStateModel(transitionMatrix)\n",
    "    traj_discretized = MSM_true.simulate(steps)\n",
    "    return (MSM_true, traj_discretized)"
   ]
  },
  {
   "cell_type": "code",
   "execution_count": 3,
   "id": "870629b8-221e-464f-b31c-7e192474e7e2",
   "metadata": {},
   "outputs": [],
   "source": [
    "def isallowedTransition(i, j):\n",
    "    \"\"\"\n",
    "    Function for determining if i -> j transition is allowed.\n",
    "    \"\"\"\n",
    "    debug = 0\n",
    "    result = False\n",
    "    diff = j - i\n",
    "    numConductions = np.abs(diff.sum())\n",
    "    condForward = diff == 1\n",
    "    condBackward = diff == -1\n",
    "    if numConductions == 0 and condForward.sum() == 1 and condBackward.sum() == 1:\n",
    "        delta = np.where(condForward)[0] - np.where(condBackward)[0]\n",
    "        if debug:\n",
    "            print(i, j, condForward, condBackward, numForward, numBackward, delta)\n",
    "        if delta == 1:\n",
    "            numConductions, result = 1, True\n",
    "        elif delta == -1:\n",
    "            numConductions, result = -1, True\n",
    "    elif numConductions == 1 and diff[0] == 1 and condBackward.sum() == 0:\n",
    "        result = True\n",
    "    elif numConductions == 1 and diff[-1] == -1 and condForward.sum() == 0:\n",
    "        result = True\n",
    "    return (numConductions, result)"
   ]
  },
  {
   "cell_type": "code",
   "execution_count": 4,
   "id": "9e604e35-0790-4beb-b51e-490c9843a830",
   "metadata": {},
   "outputs": [],
   "source": [
    "def isConduction(i, j):\n",
    "    \"\"\"\n",
    "    Function for determining if i -> j transition leads to conduction or\n",
    "    is internal transition.\n",
    "    \"\"\"\n",
    "    # diff = j - i\n",
    "    # numConductions = np.abs(diff.sum())\n",
    "    numi = i.sum()\n",
    "    numj = j.sum()\n",
    "    diff = numj - numi\n",
    "    result = False\n",
    "    # if diff > 0:\n",
    "    #     # recuited particles\n",
    "        \n",
    "    # if numConductions == 1:\n",
    "    #     result = True\n",
    "    if numi != numj:\n",
    "        # no new ions\n",
    "        result = True\n",
    "    return (diff, result)"
   ]
  },
  {
   "cell_type": "code",
   "execution_count": 5,
   "id": "95e8cc4e-bd0f-4457-bb25-6902b6f0573b",
   "metadata": {
    "jupyter": {
     "source_hidden": true
    }
   },
   "outputs": [],
   "source": [
    "# old\n",
    "def isallowedTransitionOld(i, j):\n",
    "    \"\"\"\n",
    "    Function for determining if i -> j transition is allowed.\n",
    "    \"\"\"\n",
    "    debug = 0\n",
    "    diff = j - i\n",
    "    numConductions = np.abs(diff.sum())\n",
    "    condForward = diff == 1\n",
    "    condBackward = diff == -1\n",
    "    numForward = np.sum(condForward)\n",
    "    numBackward = np.sum(condBackward)\n",
    "    if numForward == 1 and numBackward == 1:\n",
    "        delta = np.abs(np.where(condForward)[0] - np.where(condBackward)[0])[0]\n",
    "        if debug:\n",
    "            print(i, j, condForward, condBackward, numForward, numBackward, delta)\n",
    "        if delta == 1:\n",
    "            return 1\n",
    "    elif numForward == 1 and numBackward == 0 and diff[0] == 1: #or diff[-1] == 1): # not consider because assymmetric\n",
    "        return 1\n",
    "    elif numBackward == 1 and diff[-1] == -1 and numForward == 0:\n",
    "        return 1\n",
    "    return 0"
   ]
  },
  {
   "cell_type": "markdown",
   "id": "76e4f696-8a6d-4de8-8735-410b41c4aeee",
   "metadata": {},
   "source": [
    "# ASEP Model"
   ]
  },
  {
   "cell_type": "markdown",
   "id": "62d8c43f-3f6b-4461-8b58-f2d442cfd503",
   "metadata": {},
   "source": [
    "Parameter definitions \\\n",
    "$\\alpha =$ first site entrance rate \\\n",
    "$p = $ forward rate \\\n",
    "$q = $ backward rate \\\n",
    "$\\beta = $ last site exit rate"
   ]
  },
  {
   "cell_type": "markdown",
   "id": "4472a8fb-0b60-4a77-97e3-838c3c9f3cec",
   "metadata": {},
   "source": [
    "We use 8 sites, $\\alpha=\\beta=p=1$, and $q=\\frac{1}{3}$"
   ]
  },
  {
   "cell_type": "code",
   "execution_count": 6,
   "id": "fc8c600f-193e-4739-8f00-3200cfc867a1",
   "metadata": {},
   "outputs": [],
   "source": [
    "alpha, beta, p = [1]*3\n",
    "q = 1/3"
   ]
  },
  {
   "cell_type": "code",
   "execution_count": 7,
   "id": "e79b12a5-d775-4e9f-989a-695eeb46484c",
   "metadata": {},
   "outputs": [],
   "source": [
    "from itertools import combinations, permutations, combinations_with_replacement, product"
   ]
  },
  {
   "cell_type": "code",
   "execution_count": 8,
   "id": "dac0923a-819b-4f63-97cd-fd89c3827318",
   "metadata": {},
   "outputs": [],
   "source": [
    "microstates = np.array(list(product([0,1], repeat=8)))"
   ]
  },
  {
   "cell_type": "code",
   "execution_count": 9,
   "id": "7e28a29c-b82f-4fc6-9197-31e38671825d",
   "metadata": {},
   "outputs": [
    {
     "data": {
      "text/plain": [
       "array([[0, 0, 0, ..., 0, 0, 0],\n",
       "       [0, 0, 0, ..., 0, 0, 1],\n",
       "       [0, 0, 0, ..., 0, 1, 0],\n",
       "       ...,\n",
       "       [1, 1, 1, ..., 1, 0, 1],\n",
       "       [1, 1, 1, ..., 1, 1, 0],\n",
       "       [1, 1, 1, ..., 1, 1, 1]], shape=(256, 8))"
      ]
     },
     "execution_count": 9,
     "metadata": {},
     "output_type": "execute_result"
    }
   ],
   "source": [
    "microstates"
   ]
  },
  {
   "cell_type": "code",
   "execution_count": 8,
   "id": "9d6923da-d5c9-4a74-9f89-1ced746427c1",
   "metadata": {
    "collapsed": true,
    "jupyter": {
     "outputs_hidden": true,
     "source_hidden": true
    },
    "scrolled": true
   },
   "outputs": [
    {
     "name": "stdout",
     "output_type": "stream",
     "text": [
      "0         \t     128\n",
      "[0 0 0 0 0 0 0 0] -> [1 0 0 0 0 0 0 0] +1 \n",
      " diff:  [1 0 0 0 0 0 0 0] locs:  (array([0]),)\n"
     ]
    }
   ],
   "source": [
    "# old\n",
    "i = 0\n",
    "for j in range(microstates.shape[0]):\n",
    "    if isallowedTransition(microstates[i], microstates[j]):\n",
    "        diff = microstates[j] - microstates[i]\n",
    "        if diff.sum() == 1:\n",
    "            conduction = \"+1\"\n",
    "        elif diff.sum() == 0:\n",
    "            if np.where(diff == 1)[0] > np.where(diff == -1)[0]:\n",
    "                conduction = \"+1\"\n",
    "            else:\n",
    "                conduction = \"-1\"\n",
    "        elif diff.sum() == -1 and diff[-1] == -1:\n",
    "            conduction = \"+1\"\n",
    "        else:\n",
    "            conduction = \"-1\"\n",
    "        print(\"{:<10}\\t{:8}\\n{} -> {} {}\".format(i,j, microstates[i], \n",
    "                                                 microstates[j], conduction), \n",
    "              '\\n',\n",
    "              \"diff: \", diff, \"locs: \", np.where((diff == 1) + (diff == -1)))"
   ]
  },
  {
   "cell_type": "code",
   "execution_count": 9,
   "id": "e97952e7-509f-4098-ab71-de62cca25a90",
   "metadata": {
    "jupyter": {
     "source_hidden": true
    }
   },
   "outputs": [],
   "source": [
    "# old and new implementations agree\n",
    "for i in range(microstates.shape[0]):\n",
    "    for j in range(microstates.shape[1]):\n",
    "        conds, a = isallowedTransition(microstates[i], microstates[j])\n",
    "        b = isallowedTransitionOld(microstates[i], microstates[j])\n",
    "        if a != b:\n",
    "            print(i, j, microstates[i], microstates[j])"
   ]
  },
  {
   "cell_type": "code",
   "execution_count": 10,
   "id": "a3641244-24e9-4e59-8ec5-62a09b262c57",
   "metadata": {
    "scrolled": true
   },
   "outputs": [
    {
     "name": "stdout",
     "output_type": "stream",
     "text": [
      "250       \t     246\n",
      "[1 1 1 1 1 0 1 0] -> [1 1 1 1 0 1 1 0] +1 \n",
      " diff:  [ 0  0  0  0 -1  1  0  0] locs:  (array([4, 5]),)\n",
      "250       \t     249\n",
      "[1 1 1 1 1 0 1 0] -> [1 1 1 1 1 0 0 1] +1 \n",
      " diff:  [ 0  0  0  0  0  0 -1  1] locs:  (array([6, 7]),)\n",
      "250       \t     252\n",
      "[1 1 1 1 1 0 1 0] -> [1 1 1 1 1 1 0 0] -1 \n",
      " diff:  [ 0  0  0  0  0  1 -1  0] locs:  (array([5, 6]),)\n"
     ]
    }
   ],
   "source": [
    "i = 250\n",
    "for j in range(microstates.shape[0]):\n",
    "    conds, _ = isallowedTransition(microstates[i], microstates[j])\n",
    "    if _:\n",
    "        diff = microstates[j] - microstates[i]\n",
    "        print(\"{:<10}\\t{:8}\\n{} -> {} {:+}\".format(i,j, microstates[i], \n",
    "                                                   microstates[j], conds), \n",
    "              '\\n',\n",
    "              \"diff: \", diff, \"locs: \", np.where((diff == 1) + (diff == -1)))"
   ]
  },
  {
   "cell_type": "code",
   "execution_count": 11,
   "id": "8e491a75-714a-440b-abaa-4729772fec84",
   "metadata": {},
   "outputs": [],
   "source": [
    "Q = np.zeros((2**8, 2**8))\n",
    "for i in range(Q.shape[0]):\n",
    "    for j in range(Q.shape[1]):\n",
    "        conds, _ = isallowedTransition(microstates[i], microstates[j])\n",
    "        if _:\n",
    "            if microstates[i][0] == 0 and microstates[j][0] == 1 and conds == 1:\n",
    "                # entrance rate\n",
    "                Q[i][j] = alpha\n",
    "            elif microstates[i][-1] == 1 and microstates[j][-1] == 0 and conds == 1:\n",
    "                # exit rate\n",
    "                Q[i][j] = beta\n",
    "            elif conds == 1:\n",
    "                # forward rate\n",
    "                Q[i][j] = p\n",
    "            elif conds == -1:\n",
    "                Q[i][j] = q"
   ]
  },
  {
   "cell_type": "code",
   "execution_count": 12,
   "id": "60d3ae79-c09d-474a-8f73-4b6f3a7368cf",
   "metadata": {
    "scrolled": true
   },
   "outputs": [
    {
     "name": "stdout",
     "output_type": "stream",
     "text": [
      "0         \t     128\n",
      "[0 0 0 0 0 0 0 0] -> [1 0 0 0 0 0 0 0] +1 \n",
      " diff:  [1 0 0 0 0 0 0 0] locs:  (array([0]),)\n",
      "Rate:  1.0\n"
     ]
    }
   ],
   "source": [
    "i = 0\n",
    "for j in range(microstates.shape[0]):\n",
    "    conds, _ = isallowedTransition(microstates[i], microstates[j])\n",
    "    if _:\n",
    "        diff = microstates[j] - microstates[i]\n",
    "        print(\"{:<10}\\t{:8}\\n{} -> {} {:+}\".format(i,j, microstates[i], \n",
    "                                                   microstates[j], conds), \n",
    "              '\\n',\n",
    "              \"diff: \", diff, \"locs: \", np.where((diff == 1) + (diff == -1)))\n",
    "        print(\"Rate: \", Q[i][j])"
   ]
  },
  {
   "cell_type": "code",
   "execution_count": 48,
   "id": "9374039f-9324-4fcd-8bde-5522e679759f",
   "metadata": {
    "collapsed": true,
    "jupyter": {
     "outputs_hidden": true
    },
    "scrolled": true
   },
   "outputs": [
    {
     "name": "stdout",
     "output_type": "stream",
     "text": [
      "240       \t     232\n",
      "[1 1 1 1 0 0 0 0] -> [1 1 1 0 1 0 0 0] +1 \n",
      " diff:  [ 0  0  0 -1  1  0  0  0] locs:  (array([3, 4]),)\n",
      "Rate:  1.0\n",
      "241       \t     233\n",
      "[1 1 1 1 0 0 0 1] -> [1 1 1 0 1 0 0 1] +1 \n",
      " diff:  [ 0  0  0 -1  1  0  0  0] locs:  (array([3, 4]),)\n",
      "Rate:  1.0\n",
      "241       \t     240\n",
      "[1 1 1 1 0 0 0 1] -> [1 1 1 1 0 0 0 0] +1 \n",
      " diff:  [ 0  0  0  0  0  0  0 -1] locs:  (array([7]),)\n",
      "Rate:  1.0\n",
      "241       \t     242\n",
      "[1 1 1 1 0 0 0 1] -> [1 1 1 1 0 0 1 0] -1 \n",
      " diff:  [ 0  0  0  0  0  0  1 -1] locs:  (array([6, 7]),)\n",
      "Rate:  0.3333333333333333\n",
      "242       \t     234\n",
      "[1 1 1 1 0 0 1 0] -> [1 1 1 0 1 0 1 0] +1 \n",
      " diff:  [ 0  0  0 -1  1  0  0  0] locs:  (array([3, 4]),)\n",
      "Rate:  1.0\n",
      "242       \t     241\n",
      "[1 1 1 1 0 0 1 0] -> [1 1 1 1 0 0 0 1] +1 \n",
      " diff:  [ 0  0  0  0  0  0 -1  1] locs:  (array([6, 7]),)\n",
      "Rate:  1.0\n",
      "242       \t     244\n",
      "[1 1 1 1 0 0 1 0] -> [1 1 1 1 0 1 0 0] -1 \n",
      " diff:  [ 0  0  0  0  0  1 -1  0] locs:  (array([5, 6]),)\n",
      "Rate:  0.3333333333333333\n",
      "243       \t     235\n",
      "[1 1 1 1 0 0 1 1] -> [1 1 1 0 1 0 1 1] +1 \n",
      " diff:  [ 0  0  0 -1  1  0  0  0] locs:  (array([3, 4]),)\n",
      "Rate:  1.0\n",
      "243       \t     242\n",
      "[1 1 1 1 0 0 1 1] -> [1 1 1 1 0 0 1 0] +1 \n",
      " diff:  [ 0  0  0  0  0  0  0 -1] locs:  (array([7]),)\n",
      "Rate:  1.0\n",
      "243       \t     245\n",
      "[1 1 1 1 0 0 1 1] -> [1 1 1 1 0 1 0 1] -1 \n",
      " diff:  [ 0  0  0  0  0  1 -1  0] locs:  (array([5, 6]),)\n",
      "Rate:  0.3333333333333333\n",
      "244       \t     236\n",
      "[1 1 1 1 0 1 0 0] -> [1 1 1 0 1 1 0 0] +1 \n",
      " diff:  [ 0  0  0 -1  1  0  0  0] locs:  (array([3, 4]),)\n",
      "Rate:  1.0\n",
      "244       \t     242\n",
      "[1 1 1 1 0 1 0 0] -> [1 1 1 1 0 0 1 0] +1 \n",
      " diff:  [ 0  0  0  0  0 -1  1  0] locs:  (array([5, 6]),)\n",
      "Rate:  1.0\n",
      "244       \t     248\n",
      "[1 1 1 1 0 1 0 0] -> [1 1 1 1 1 0 0 0] -1 \n",
      " diff:  [ 0  0  0  0  1 -1  0  0] locs:  (array([4, 5]),)\n",
      "Rate:  0.3333333333333333\n",
      "245       \t     237\n",
      "[1 1 1 1 0 1 0 1] -> [1 1 1 0 1 1 0 1] +1 \n",
      " diff:  [ 0  0  0 -1  1  0  0  0] locs:  (array([3, 4]),)\n",
      "Rate:  1.0\n",
      "245       \t     243\n",
      "[1 1 1 1 0 1 0 1] -> [1 1 1 1 0 0 1 1] +1 \n",
      " diff:  [ 0  0  0  0  0 -1  1  0] locs:  (array([5, 6]),)\n",
      "Rate:  1.0\n",
      "245       \t     244\n",
      "[1 1 1 1 0 1 0 1] -> [1 1 1 1 0 1 0 0] +1 \n",
      " diff:  [ 0  0  0  0  0  0  0 -1] locs:  (array([7]),)\n",
      "Rate:  1.0\n",
      "245       \t     246\n",
      "[1 1 1 1 0 1 0 1] -> [1 1 1 1 0 1 1 0] -1 \n",
      " diff:  [ 0  0  0  0  0  0  1 -1] locs:  (array([6, 7]),)\n",
      "Rate:  0.3333333333333333\n",
      "245       \t     249\n",
      "[1 1 1 1 0 1 0 1] -> [1 1 1 1 1 0 0 1] -1 \n",
      " diff:  [ 0  0  0  0  1 -1  0  0] locs:  (array([4, 5]),)\n",
      "Rate:  0.3333333333333333\n",
      "246       \t     238\n",
      "[1 1 1 1 0 1 1 0] -> [1 1 1 0 1 1 1 0] +1 \n",
      " diff:  [ 0  0  0 -1  1  0  0  0] locs:  (array([3, 4]),)\n",
      "Rate:  1.0\n",
      "246       \t     245\n",
      "[1 1 1 1 0 1 1 0] -> [1 1 1 1 0 1 0 1] +1 \n",
      " diff:  [ 0  0  0  0  0  0 -1  1] locs:  (array([6, 7]),)\n",
      "Rate:  1.0\n",
      "246       \t     250\n",
      "[1 1 1 1 0 1 1 0] -> [1 1 1 1 1 0 1 0] -1 \n",
      " diff:  [ 0  0  0  0  1 -1  0  0] locs:  (array([4, 5]),)\n",
      "Rate:  0.3333333333333333\n",
      "247       \t     239\n",
      "[1 1 1 1 0 1 1 1] -> [1 1 1 0 1 1 1 1] +1 \n",
      " diff:  [ 0  0  0 -1  1  0  0  0] locs:  (array([3, 4]),)\n",
      "Rate:  1.0\n",
      "247       \t     246\n",
      "[1 1 1 1 0 1 1 1] -> [1 1 1 1 0 1 1 0] +1 \n",
      " diff:  [ 0  0  0  0  0  0  0 -1] locs:  (array([7]),)\n",
      "Rate:  1.0\n",
      "247       \t     251\n",
      "[1 1 1 1 0 1 1 1] -> [1 1 1 1 1 0 1 1] -1 \n",
      " diff:  [ 0  0  0  0  1 -1  0  0] locs:  (array([4, 5]),)\n",
      "Rate:  0.3333333333333333\n",
      "248       \t     244\n",
      "[1 1 1 1 1 0 0 0] -> [1 1 1 1 0 1 0 0] +1 \n",
      " diff:  [ 0  0  0  0 -1  1  0  0] locs:  (array([4, 5]),)\n",
      "Rate:  1.0\n",
      "249       \t     245\n",
      "[1 1 1 1 1 0 0 1] -> [1 1 1 1 0 1 0 1] +1 \n",
      " diff:  [ 0  0  0  0 -1  1  0  0] locs:  (array([4, 5]),)\n",
      "Rate:  1.0\n",
      "249       \t     248\n",
      "[1 1 1 1 1 0 0 1] -> [1 1 1 1 1 0 0 0] +1 \n",
      " diff:  [ 0  0  0  0  0  0  0 -1] locs:  (array([7]),)\n",
      "Rate:  1.0\n",
      "249       \t     250\n",
      "[1 1 1 1 1 0 0 1] -> [1 1 1 1 1 0 1 0] -1 \n",
      " diff:  [ 0  0  0  0  0  0  1 -1] locs:  (array([6, 7]),)\n",
      "Rate:  0.3333333333333333\n",
      "250       \t     246\n",
      "[1 1 1 1 1 0 1 0] -> [1 1 1 1 0 1 1 0] +1 \n",
      " diff:  [ 0  0  0  0 -1  1  0  0] locs:  (array([4, 5]),)\n",
      "Rate:  1.0\n",
      "250       \t     249\n",
      "[1 1 1 1 1 0 1 0] -> [1 1 1 1 1 0 0 1] +1 \n",
      " diff:  [ 0  0  0  0  0  0 -1  1] locs:  (array([6, 7]),)\n",
      "Rate:  1.0\n",
      "250       \t     252\n",
      "[1 1 1 1 1 0 1 0] -> [1 1 1 1 1 1 0 0] -1 \n",
      " diff:  [ 0  0  0  0  0  1 -1  0] locs:  (array([5, 6]),)\n",
      "Rate:  0.3333333333333333\n",
      "251       \t     247\n",
      "[1 1 1 1 1 0 1 1] -> [1 1 1 1 0 1 1 1] +1 \n",
      " diff:  [ 0  0  0  0 -1  1  0  0] locs:  (array([4, 5]),)\n",
      "Rate:  1.0\n",
      "251       \t     250\n",
      "[1 1 1 1 1 0 1 1] -> [1 1 1 1 1 0 1 0] +1 \n",
      " diff:  [ 0  0  0  0  0  0  0 -1] locs:  (array([7]),)\n",
      "Rate:  1.0\n",
      "251       \t     253\n",
      "[1 1 1 1 1 0 1 1] -> [1 1 1 1 1 1 0 1] -1 \n",
      " diff:  [ 0  0  0  0  0  1 -1  0] locs:  (array([5, 6]),)\n",
      "Rate:  0.3333333333333333\n",
      "252       \t     250\n",
      "[1 1 1 1 1 1 0 0] -> [1 1 1 1 1 0 1 0] +1 \n",
      " diff:  [ 0  0  0  0  0 -1  1  0] locs:  (array([5, 6]),)\n",
      "Rate:  1.0\n",
      "253       \t     251\n",
      "[1 1 1 1 1 1 0 1] -> [1 1 1 1 1 0 1 1] +1 \n",
      " diff:  [ 0  0  0  0  0 -1  1  0] locs:  (array([5, 6]),)\n",
      "Rate:  1.0\n",
      "253       \t     252\n",
      "[1 1 1 1 1 1 0 1] -> [1 1 1 1 1 1 0 0] +1 \n",
      " diff:  [ 0  0  0  0  0  0  0 -1] locs:  (array([7]),)\n",
      "Rate:  1.0\n",
      "253       \t     254\n",
      "[1 1 1 1 1 1 0 1] -> [1 1 1 1 1 1 1 0] -1 \n",
      " diff:  [ 0  0  0  0  0  0  1 -1] locs:  (array([6, 7]),)\n",
      "Rate:  0.3333333333333333\n",
      "254       \t     253\n",
      "[1 1 1 1 1 1 1 0] -> [1 1 1 1 1 1 0 1] +1 \n",
      " diff:  [ 0  0  0  0  0  0 -1  1] locs:  (array([6, 7]),)\n",
      "Rate:  1.0\n",
      "255       \t     254\n",
      "[1 1 1 1 1 1 1 1] -> [1 1 1 1 1 1 1 0] +1 \n",
      " diff:  [ 0  0  0  0  0  0  0 -1] locs:  (array([7]),)\n",
      "Rate:  1.0\n"
     ]
    }
   ],
   "source": [
    "for i in range(240, microstates.shape[0]):\n",
    "    for j in range(microstates.shape[0]):\n",
    "        conds, _ = isallowedTransition(microstates[i], microstates[j])\n",
    "        if _:\n",
    "            diff = microstates[j] - microstates[i]\n",
    "            print(\"{:<10}\\t{:8}\\n{} -> {} {:+}\".format(i,j, microstates[i], \n",
    "                                                       microstates[j], conds), \n",
    "                  '\\n',\n",
    "                  \"diff: \", diff, \"locs: \", np.where((diff == 1) + (diff == -1)))\n",
    "            print(\"Rate: \", Q[i][j])"
   ]
  },
  {
   "cell_type": "code",
   "execution_count": 12,
   "id": "7b7d91ef-16c4-40d5-8670-0cbb28642ecc",
   "metadata": {
    "collapsed": true,
    "jupyter": {
     "outputs_hidden": true,
     "source_hidden": true
    },
    "scrolled": true
   },
   "outputs": [
    {
     "data": {
      "text/plain": [
       "array([5.        , 3.66666667, 3.66666667, 2.33333333, 3.66666667,\n",
       "       3.66666667, 3.66666667, 2.33333333, 3.66666667, 2.33333333,\n",
       "       2.33333333, 2.33333333, 3.66666667, 3.66666667, 3.66666667,\n",
       "       3.66666667, 5.        , 3.66666667, 3.66666667, 3.66666667,\n",
       "       5.        , 5.        , 5.        , 3.66666667, 5.        ,\n",
       "       3.66666667, 3.66666667, 2.33333333, 3.66666667, 3.66666667,\n",
       "       3.66666667, 3.66666667, 5.        , 3.66666667, 3.66666667,\n",
       "       2.33333333, 3.66666667, 3.66666667, 3.66666667, 2.33333333,\n",
       "       3.66666667, 2.33333333, 2.33333333, 2.33333333, 3.66666667,\n",
       "       3.66666667, 3.66666667, 3.66666667, 5.        , 3.66666667,\n",
       "       3.66666667, 3.66666667, 5.        , 5.        , 5.        ,\n",
       "       3.66666667, 5.        , 3.66666667, 3.66666667, 3.66666667,\n",
       "       5.        , 5.        , 5.        , 5.        , 6.33333333,\n",
       "       5.        , 5.        , 3.66666667, 5.        , 5.        ,\n",
       "       5.        , 3.66666667, 5.        , 3.66666667, 3.66666667,\n",
       "       2.33333333, 3.66666667, 3.66666667, 3.66666667, 3.66666667,\n",
       "       5.        , 3.66666667, 3.66666667, 3.66666667, 5.        ,\n",
       "       5.        , 5.        , 3.66666667, 5.        , 3.66666667,\n",
       "       3.66666667, 2.33333333, 3.66666667, 3.66666667, 3.66666667,\n",
       "       3.66666667, 5.        , 3.66666667, 3.66666667, 2.33333333,\n",
       "       3.66666667, 3.66666667, 3.66666667, 2.33333333, 3.66666667,\n",
       "       2.33333333, 2.33333333, 1.        , 2.33333333, 2.33333333,\n",
       "       2.33333333, 2.33333333, 3.66666667, 2.33333333, 2.33333333,\n",
       "       2.33333333, 3.66666667, 3.66666667, 3.66666667, 2.33333333,\n",
       "       3.66666667, 2.33333333, 2.33333333, 2.33333333, 3.66666667,\n",
       "       3.66666667, 3.66666667, 3.66666667, 5.        , 3.66666667,\n",
       "       3.66666667, 2.33333333, 3.66666667, 3.66666667, 3.66666667,\n",
       "       2.33333333, 3.66666667, 2.33333333, 2.33333333, 2.33333333,\n",
       "       3.66666667, 3.66666667, 3.66666667, 3.66666667, 5.        ,\n",
       "       3.66666667, 3.66666667, 3.66666667, 5.        , 5.        ,\n",
       "       5.        , 3.66666667, 5.        , 3.66666667, 3.66666667,\n",
       "       2.33333333, 3.66666667, 3.66666667, 3.66666667, 3.66666667,\n",
       "       5.        , 3.66666667, 3.66666667, 2.33333333, 3.66666667,\n",
       "       3.66666667, 3.66666667, 2.33333333, 3.66666667, 2.33333333,\n",
       "       2.33333333, 1.        , 2.33333333, 2.33333333, 2.33333333,\n",
       "       2.33333333, 3.66666667, 2.33333333, 2.33333333, 2.33333333,\n",
       "       3.66666667, 3.66666667, 3.66666667, 2.33333333, 3.66666667,\n",
       "       2.33333333, 2.33333333, 2.33333333, 3.66666667, 3.66666667,\n",
       "       3.66666667, 3.66666667, 5.        , 3.66666667, 3.66666667,\n",
       "       2.33333333, 3.66666667, 3.66666667, 3.66666667, 2.33333333,\n",
       "       3.66666667, 2.33333333, 2.33333333, 1.        , 2.33333333,\n",
       "       2.33333333, 2.33333333, 2.33333333, 3.66666667, 2.33333333,\n",
       "       2.33333333, 2.33333333, 3.66666667, 3.66666667, 3.66666667,\n",
       "       2.33333333, 3.66666667, 2.33333333, 2.33333333, 1.        ,\n",
       "       2.33333333, 2.33333333, 2.33333333, 2.33333333, 3.66666667,\n",
       "       2.33333333, 2.33333333, 1.        , 2.33333333, 2.33333333,\n",
       "       2.33333333, 1.        , 2.33333333, 1.        , 1.        ])"
      ]
     },
     "execution_count": 12,
     "metadata": {},
     "output_type": "execute_result"
    }
   ],
   "source": [
    "np.sum(Q, axis=1)[21:]"
   ]
  },
  {
   "cell_type": "code",
   "execution_count": 13,
   "id": "10ce8218-252a-482f-8587-cffe3a269b54",
   "metadata": {},
   "outputs": [],
   "source": [
    "Q += -1 * np.eye(2**8) * np.sum(Q, axis=1)"
   ]
  },
  {
   "cell_type": "code",
   "execution_count": 14,
   "id": "c5a57f12-929d-4030-93b9-edbb2f7a8cde",
   "metadata": {
    "collapsed": true,
    "jupyter": {
     "outputs_hidden": true,
     "source_hidden": true
    },
    "scrolled": true
   },
   "outputs": [
    {
     "data": {
      "text/plain": [
       "array([ 0.        ,  0.        ,  0.        ,  0.        ,  0.        ,\n",
       "        0.        ,  0.        ,  0.        ,  0.        ,  0.        ,\n",
       "        0.        ,  0.        ,  0.        ,  1.        ,  0.        ,\n",
       "        0.        ,  0.        ,  0.        ,  0.        ,  1.        ,\n",
       "        1.        , -5.        ,  0.33333333,  0.        ,  0.        ,\n",
       "        0.33333333,  0.        ,  0.        ,  0.        ,  0.        ,\n",
       "        0.        ,  0.        ,  0.        ,  0.        ,  0.        ,\n",
       "        0.        ,  0.        ,  0.33333333,  0.        ,  0.        ,\n",
       "        0.        ,  0.        ,  0.        ,  0.        ,  0.        ,\n",
       "        0.        ,  0.        ,  0.        ,  0.        ,  0.        ,\n",
       "        0.        ,  0.        ,  0.        ,  0.        ,  0.        ,\n",
       "        0.        ,  0.        ,  0.        ,  0.        ,  0.        ,\n",
       "        0.        ,  0.        ,  0.        ,  0.        ,  0.        ,\n",
       "        0.        ,  0.        ,  0.        ,  0.        ,  0.        ,\n",
       "        0.        ,  0.        ,  0.        ,  0.        ,  0.        ,\n",
       "        0.        ,  0.        ,  0.        ,  0.        ,  0.        ,\n",
       "        0.        ,  0.        ,  0.        ,  0.        ,  0.        ,\n",
       "        0.        ,  0.        ,  0.        ,  0.        ,  0.        ,\n",
       "        0.        ,  0.        ,  0.        ,  0.        ,  0.        ,\n",
       "        0.        ,  0.        ,  0.        ,  0.        ,  0.        ,\n",
       "        0.        ,  0.        ,  0.        ,  0.        ,  0.        ,\n",
       "        0.        ,  0.        ,  0.        ,  0.        ,  0.        ,\n",
       "        0.        ,  0.        ,  0.        ,  0.        ,  0.        ,\n",
       "        0.        ,  0.        ,  0.        ,  0.        ,  0.        ,\n",
       "        0.        ,  0.        ,  0.        ,  0.        ,  0.        ,\n",
       "        0.        ,  0.        ,  0.        ,  0.        ,  0.        ,\n",
       "        0.        ,  0.        ,  0.        ,  0.        ,  0.        ,\n",
       "        0.        ,  0.        ,  0.        ,  0.        ,  0.        ,\n",
       "        0.        ,  0.        ,  0.        ,  0.        ,  0.        ,\n",
       "        0.        ,  0.        ,  0.        ,  0.        ,  1.        ,\n",
       "        0.        ,  0.        ,  0.        ,  0.        ,  0.        ,\n",
       "        0.        ,  0.        ,  0.        ,  0.        ,  0.        ,\n",
       "        0.        ,  0.        ,  0.        ,  0.        ,  0.        ,\n",
       "        0.        ,  0.        ,  0.        ,  0.        ,  0.        ,\n",
       "        0.        ,  0.        ,  0.        ,  0.        ,  0.        ,\n",
       "        0.        ,  0.        ,  0.        ,  0.        ,  0.        ,\n",
       "        0.        ,  0.        ,  0.        ,  0.        ,  0.        ,\n",
       "        0.        ,  0.        ,  0.        ,  0.        ,  0.        ,\n",
       "        0.        ,  0.        ,  0.        ,  0.        ,  0.        ,\n",
       "        0.        ,  0.        ,  0.        ,  0.        ,  0.        ,\n",
       "        0.        ,  0.        ,  0.        ,  0.        ,  0.        ,\n",
       "        0.        ,  0.        ,  0.        ,  0.        ,  0.        ,\n",
       "        0.        ,  0.        ,  0.        ,  0.        ,  0.        ,\n",
       "        0.        ,  0.        ,  0.        ,  0.        ,  0.        ,\n",
       "        0.        ,  0.        ,  0.        ,  0.        ,  0.        ,\n",
       "        0.        ,  0.        ,  0.        ,  0.        ,  0.        ,\n",
       "        0.        ,  0.        ,  0.        ,  0.        ,  0.        ,\n",
       "        0.        ,  0.        ,  0.        ,  0.        ,  0.        ,\n",
       "        0.        ,  0.        ,  0.        ,  0.        ,  0.        ,\n",
       "        0.        ,  0.        ,  0.        ,  0.        ,  0.        ,\n",
       "        0.        ,  0.        ,  0.        ,  0.        ,  0.        ,\n",
       "        0.        ])"
      ]
     },
     "execution_count": 14,
     "metadata": {},
     "output_type": "execute_result"
    }
   ],
   "source": [
    "Q[21]"
   ]
  },
  {
   "cell_type": "code",
   "execution_count": 14,
   "id": "c22c1f8c-4cd5-4a40-bf3c-54b3d8d13202",
   "metadata": {},
   "outputs": [],
   "source": [
    "tau = 10\n",
    "transMat = scipy.linalg.expm(Q * tau)"
   ]
  },
  {
   "cell_type": "code",
   "execution_count": 16,
   "id": "ba31acfd-3713-425d-884f-b58fbe87ef5d",
   "metadata": {
    "collapsed": true,
    "jupyter": {
     "outputs_hidden": true,
     "source_hidden": true
    },
    "scrolled": true
   },
   "outputs": [
    {
     "data": {
      "text/plain": [
       "array([4.41503767e-04, 2.95430735e-04, 6.18760759e-04, 1.48099720e-04,\n",
       "       1.05859558e-03, 3.35044903e-04, 5.39115335e-04, 5.68729903e-05,\n",
       "       1.68955674e-03, 6.12235198e-04, 1.05023106e-03, 1.41790234e-04,\n",
       "       1.41424036e-03, 2.41881655e-04, 3.54597889e-04, 1.77413924e-05,\n",
       "       2.58312318e-03, 1.02070962e-03, 1.81532874e-03, 2.76318021e-04,\n",
       "       2.57554968e-03, 5.11772608e-04, 7.70135502e-04, 4.88517141e-05,\n",
       "       3.29468625e-03, 7.27750641e-04, 1.13449196e-03, 9.01124543e-05,\n",
       "       1.39986432e-03, 1.38386081e-04, 1.94688294e-04, 4.94279246e-06,\n",
       "       3.82061768e-03, 1.60187155e-03, 2.91609540e-03, 4.78551792e-04,\n",
       "       4.26822105e-03, 9.25510376e-04, 1.41249779e-03, 1.00862887e-04,\n",
       "       5.70338115e-03, 1.40410120e-03, 2.24132352e-03, 2.05708500e-04,\n",
       "       2.83249977e-03, 3.27229488e-04, 4.66263500e-04, 1.48919029e-05,\n",
       "       7.08931930e-03, 1.86788926e-03, 3.04520479e-03, 3.09510468e-04,\n",
       "       3.95862234e-03, 5.18290923e-04, 7.50937639e-04, 2.98705362e-05,\n",
       "       4.67279705e-03, 6.70357424e-04, 9.92947373e-04, 4.88941188e-05,\n",
       "       1.17452288e-03, 7.14147129e-05, 9.84619883e-05, 1.38083917e-06,\n",
       "       5.50451001e-03, 2.40472072e-03, 4.44653361e-03, 7.67097091e-04,\n",
       "       6.63889399e-03, 1.52254907e-03, 2.34435703e-03, 1.80175337e-04,\n",
       "       9.10624592e-03, 2.39346754e-03, 3.87366041e-03, 3.86050759e-04,\n",
       "       4.95975694e-03, 6.24902672e-04, 8.96463839e-04, 3.21909436e-05,\n",
       "       1.17322518e-02, 3.35017059e-03, 5.56984992e-03, 6.26292556e-04,\n",
       "       7.39648485e-03, 1.08034964e-03, 1.58205649e-03, 7.25450033e-05,\n",
       "       8.91714899e-03, 1.44023209e-03, 2.16574804e-03, 1.24248756e-04,\n",
       "       2.59614642e-03, 1.84861820e-04, 2.56655127e-04, 4.48582634e-06,\n",
       "       1.42479365e-02, 4.26842513e-03, 7.20045092e-03, 8.63063184e-04,\n",
       "       9.73945585e-03, 1.53134146e-03, 2.26352720e-03, 1.15032430e-04,\n",
       "       1.20208437e-02, 2.12308791e-03, 3.24284551e-03, 2.11092116e-04,\n",
       "       3.94874366e-03, 3.22162565e-04, 4.51312407e-04, 9.76936019e-06,\n",
       "       1.38846056e-02, 2.59895882e-03, 4.02573639e-03, 2.87377364e-04,\n",
       "       4.98980709e-03, 4.54700698e-04, 6.44508245e-04, 1.72044364e-05,\n",
       "       5.66297440e-03, 5.60926680e-04, 8.07382410e-04, 2.65178106e-05,\n",
       "       9.33329929e-04, 3.77145767e-05, 5.14548936e-05, 4.43706992e-07,\n",
       "       7.77057981e-03, 3.49288345e-03, 6.52727596e-03, 1.16441564e-03,\n",
       "       9.87328756e-03, 2.34922773e-03, 3.63816218e-03, 2.93177449e-04,\n",
       "       1.37679396e-02, 3.77235014e-03, 6.15824247e-03, 6.45906584e-04,\n",
       "       7.94731057e-03, 1.05614967e-03, 1.52143185e-03, 5.86543193e-05,\n",
       "       1.81236684e-02, 5.43216472e-03, 9.13592351e-03, 1.08906150e-03,\n",
       "       1.22784495e-02, 1.90837235e-03, 2.81145798e-03, 1.39519015e-04,\n",
       "       1.49719679e-02, 2.58280132e-03, 3.91624804e-03, 2.44027110e-04,\n",
       "       4.72711925e-03, 3.66340729e-04, 5.10476732e-04, 9.98812221e-06,\n",
       "       2.26585423e-02, 7.20094324e-03, 1.23352002e-02, 1.58786249e-03,\n",
       "       1.69701493e-02, 2.88138898e-03, 4.29470621e-03, 2.40573340e-04,\n",
       "       2.13296624e-02, 4.09642450e-03, 6.33342044e-03, 4.57388167e-04,\n",
       "       7.79475523e-03, 7.07837216e-04, 9.97114731e-04, 2.47653724e-05,\n",
       "       2.50818054e-02, 5.14039983e-03, 8.08134788e-03, 6.45484811e-04,\n",
       "       1.01621698e-02, 1.04205309e-03, 1.48826575e-03, 4.60822056e-05,\n",
       "       1.16768406e-02, 1.30817791e-03, 1.90207547e-03, 7.28635258e-05,\n",
       "       2.21736547e-03, 1.04787406e-04, 1.43570164e-04, 1.52730084e-06,\n",
       "       2.69620218e-02, 8.86975694e-03, 1.53524344e-02, 2.06388767e-03,\n",
       "       2.13883179e-02, 3.81184499e-03, 5.71684290e-03, 3.41397179e-04,\n",
       "       2.73004563e-02, 5.54510221e-03, 8.65697699e-03, 6.72208584e-04,\n",
       "       1.07523435e-02, 1.05379730e-03, 1.49179910e-03, 4.11179128e-05,\n",
       "       3.27199431e-02, 7.16992217e-03, 1.14266041e-02, 9.97006865e-04,\n",
       "       1.45798345e-02, 1.64550921e-03, 2.36873585e-03, 8.34159931e-05,\n",
       "       1.69905447e-02, 2.11187147e-03, 3.10515819e-03, 1.36720865e-04,\n",
       "       3.65616343e-03, 1.99557178e-04, 2.74904777e-04, 3.60835476e-06,\n",
       "       3.71367191e-02, 8.48511138e-03, 1.36634494e-02, 1.26338862e-03,\n",
       "       1.76554190e-02, 2.12937323e-03, 3.08675941e-03, 1.19556576e-04,\n",
       "       2.08864514e-02, 2.80912671e-03, 4.17810598e-03, 2.06662387e-04,\n",
       "       4.97643095e-03, 3.07800680e-04, 4.27006344e-04, 6.89647968e-06,\n",
       "       2.32899578e-02, 3.30161139e-03, 4.96201255e-03, 2.67765706e-04,\n",
       "       5.98560657e-03, 4.10187195e-04, 5.74276093e-04, 1.13893372e-05,\n",
       "       6.64975867e-03, 4.93208605e-04, 6.98763451e-04, 1.70078644e-05,\n",
       "       7.97550092e-04, 2.38498464e-05, 3.23642786e-05, 1.98391527e-07])"
      ]
     },
     "execution_count": 16,
     "metadata": {},
     "output_type": "execute_result"
    }
   ],
   "source": [
    "transMat[0]"
   ]
  },
  {
   "cell_type": "code",
   "execution_count": 15,
   "id": "b263db3a-c563-432f-91b2-af7d567b1f64",
   "metadata": {},
   "outputs": [],
   "source": [
    "MSM = dt.markov.msm.MarkovStateModel(transMat)"
   ]
  },
  {
   "cell_type": "code",
   "execution_count": 22,
   "id": "e559edb5-39b6-4fcc-a602-3bd611d2f0c5",
   "metadata": {
    "collapsed": true,
    "jupyter": {
     "outputs_hidden": true,
     "source_hidden": true
    }
   },
   "outputs": [
    {
     "data": {
      "text/plain": [
       "np.True_"
      ]
     },
     "execution_count": 22,
     "metadata": {},
     "output_type": "execute_result"
    }
   ],
   "source": [
    "np.all(MSM.transition_matrix == transMat)"
   ]
  },
  {
   "cell_type": "code",
   "execution_count": 35,
   "id": "6e88141c-459a-4ff9-b97f-b8603831402d",
   "metadata": {
    "collapsed": true,
    "jupyter": {
     "outputs_hidden": true,
     "source_hidden": true
    },
    "scrolled": true
   },
   "outputs": [
    {
     "data": {
      "text/plain": [
       "array([ 1.00000000e+00+0.00000000e+00j,  2.10379104e-01+0.00000000e+00j,\n",
       "        1.77055434e-02+1.38783257e-02j,  1.77055434e-02-1.38783257e-02j,\n",
       "       -6.56334785e-04+2.10722797e-03j, -6.56334785e-04-2.10722797e-03j,\n",
       "        1.30536433e-03+0.00000000e+00j, -2.51226991e-04-1.47108540e-04j,\n",
       "       -2.51226991e-04+1.47108540e-04j,  6.37457352e-05-5.73362772e-05j,\n",
       "        6.37457352e-05+5.73362772e-05j,  5.80860189e-05-2.32902282e-05j,\n",
       "        5.80860189e-05+2.32902282e-05j,  5.81047694e-05+0.00000000e+00j,\n",
       "        4.96903943e-05+1.74249930e-05j,  4.96903943e-05-1.74249930e-05j,\n",
       "       -1.22850466e-05+2.43061395e-05j, -1.22850466e-05-2.43061395e-05j,\n",
       "       -6.87709612e-06+2.56683092e-05j, -6.87709612e-06-2.56683092e-05j,\n",
       "       -1.28739053e-05+1.13737873e-05j, -1.28739053e-05-1.13737873e-05j,\n",
       "        1.24668702e-07+4.68718519e-06j,  1.24668702e-07-4.68718519e-06j,\n",
       "       -3.59702910e-06+4.83353881e-07j, -3.59702910e-06-4.83353881e-07j,\n",
       "        1.24352254e-06+2.49605855e-06j,  1.24352254e-06-2.49605855e-06j,\n",
       "        1.65267513e-06+2.12262831e-06j,  1.65267513e-06-2.12262831e-06j,\n",
       "        1.66039777e-06+0.00000000e+00j,  1.57703898e-06+0.00000000e+00j,\n",
       "       -4.58974425e-07+2.16830211e-07j, -4.58974425e-07-2.16830211e-07j,\n",
       "        2.19059333e-07+3.48981616e-07j,  2.19059333e-07-3.48981616e-07j,\n",
       "       -2.88694689e-07+1.27899394e-07j, -2.88694689e-07-1.27899394e-07j,\n",
       "        1.37147164e-07+0.00000000e+00j, -8.71951781e-08-2.98182480e-08j,\n",
       "       -8.71951781e-08+2.98182480e-08j,  2.15088276e-08-8.13756903e-08j,\n",
       "        2.15088276e-08+8.13756903e-08j,  7.63316466e-08+0.00000000e+00j,\n",
       "        6.30285491e-08+0.00000000e+00j,  2.24951710e-08-4.96027156e-08j,\n",
       "        2.24951710e-08+4.96027156e-08j, -2.50424948e-08-4.76781916e-08j,\n",
       "       -2.50424948e-08+4.76781916e-08j,  6.50055090e-09-4.24101135e-09j,\n",
       "        6.50055090e-09+4.24101135e-09j, -5.27373845e-09-5.09492787e-10j,\n",
       "       -5.27373845e-09+5.09492787e-10j,  4.12100485e-09-3.25546086e-09j,\n",
       "        4.12100485e-09+3.25546086e-09j, -3.07903038e-09-2.17461569e-09j,\n",
       "       -3.07903038e-09+2.17461569e-09j,  3.61444315e-09+0.00000000e+00j,\n",
       "        9.31930085e-10+1.27682315e-09j,  9.31930085e-10-1.27682315e-09j,\n",
       "        8.83540126e-10+0.00000000e+00j,  7.19610829e-10-2.30354015e-10j,\n",
       "        7.19610829e-10+2.30354015e-10j, -2.33629319e-10-6.89442453e-10j,\n",
       "       -2.33629319e-10+6.89442453e-10j,  6.04952004e-10+0.00000000e+00j,\n",
       "       -2.27217296e-10+3.64699452e-10j, -2.27217296e-10-3.64699452e-10j,\n",
       "        2.17051951e-10+0.00000000e+00j,  1.47405449e-10-5.07355472e-11j,\n",
       "        1.47405449e-10+5.07355472e-11j,  1.28287537e-11+9.67347739e-11j,\n",
       "        1.28287537e-11-9.67347739e-11j, -5.95242906e-11-7.43160311e-11j,\n",
       "       -5.95242906e-11+7.43160311e-11j, -5.52077056e-11-5.01735851e-11j,\n",
       "       -5.52077056e-11+5.01735851e-11j,  3.05068610e-11-4.22646340e-11j,\n",
       "        3.05068610e-11+4.22646340e-11j,  4.55359538e-11+0.00000000e+00j,\n",
       "       -1.65316025e-11+3.04583794e-11j, -1.65316025e-11-3.04583794e-11j,\n",
       "        2.90265279e-11+1.33702399e-11j,  2.90265279e-11-1.33702399e-11j,\n",
       "        2.01230250e-11+0.00000000e+00j,  1.88353166e-12-7.03832448e-12j,\n",
       "        1.88353166e-12+7.03832448e-12j,  2.56651093e-12-4.74931742e-12j,\n",
       "        2.56651093e-12+4.74931742e-12j,  4.68276567e-12-7.99750199e-13j,\n",
       "        4.68276567e-12+7.99750199e-13j,  4.36376090e-12-1.75141266e-12j,\n",
       "        4.36376090e-12+1.75141266e-12j, -2.63326398e-12-1.82113994e-12j,\n",
       "       -2.63326398e-12+1.82113994e-12j, -4.09992560e-13-1.63796152e-12j,\n",
       "       -4.09992560e-13+1.63796152e-12j, -7.59628366e-13-1.04147747e-12j,\n",
       "       -7.59628366e-13+1.04147747e-12j,  6.39538699e-14-1.27381269e-12j,\n",
       "        6.39538699e-14+1.27381269e-12j,  4.11257467e-13-1.75489586e-13j,\n",
       "        4.11257467e-13+1.75489586e-13j, -3.68396025e-13-1.45962366e-13j,\n",
       "       -3.68396025e-13+1.45962366e-13j,  2.55702182e-13-6.43589487e-14j,\n",
       "        2.55702182e-13+6.43589487e-14j, -1.10762949e-13-1.58812886e-13j,\n",
       "       -1.10762949e-13+1.58812886e-13j,  1.49213035e-13+0.00000000e+00j,\n",
       "       -1.38236231e-13+3.55411016e-14j, -1.38236231e-13-3.55411016e-14j,\n",
       "       -1.09383609e-13+3.86700513e-14j, -1.09383609e-13-3.86700513e-14j,\n",
       "        2.61976509e-14+8.95858929e-14j,  2.61976509e-14-8.95858929e-14j,\n",
       "        6.63985793e-14+0.00000000e+00j, -2.15291654e-15-5.11119743e-14j,\n",
       "       -2.15291654e-15+5.11119743e-14j,  4.04506395e-14-1.71908787e-14j,\n",
       "        4.04506395e-14+1.71908787e-14j,  3.85707468e-15-2.54434769e-14j,\n",
       "        3.85707468e-15+2.54434769e-14j, -1.16977166e-14-2.01702674e-14j,\n",
       "       -1.16977166e-14+2.01702674e-14j, -1.43275859e-14-1.85981204e-16j,\n",
       "       -1.43275859e-14+1.85981204e-16j, -1.13329878e-15-7.56197250e-15j,\n",
       "       -1.13329878e-15+7.56197250e-15j, -1.16714289e-15-3.98703715e-15j,\n",
       "       -1.16714289e-15+3.98703715e-15j,  1.36737776e-15-2.48141776e-15j,\n",
       "        1.36737776e-15+2.48141776e-15j,  8.30255076e-16-2.34752337e-15j,\n",
       "        8.30255076e-16+2.34752337e-15j, -9.69953574e-16+1.91911546e-15j,\n",
       "       -9.69953574e-16-1.91911546e-15j,  2.09331966e-15-4.28624204e-16j,\n",
       "        2.09331966e-15+4.28624204e-16j, -1.50945611e-15-1.12722755e-15j,\n",
       "       -1.50945611e-15+1.12722755e-15j, -1.33609616e-15-1.21281959e-15j,\n",
       "       -1.33609616e-15+1.21281959e-15j, -8.47230018e-16-1.48247480e-15j,\n",
       "       -8.47230018e-16+1.48247480e-15j, -1.02452133e-16-8.86428597e-16j,\n",
       "       -1.02452133e-16+8.86428597e-16j,  4.48324242e-16-1.64065459e-16j,\n",
       "        4.48324242e-16+1.64065459e-16j,  4.67549366e-16+0.00000000e+00j,\n",
       "        3.81390854e-16+2.60040041e-17j,  3.81390854e-16-2.60040041e-17j,\n",
       "        3.68749493e-16+0.00000000e+00j,  2.95910991e-16+0.00000000e+00j,\n",
       "       -2.08016897e-16+0.00000000e+00j, -1.26052103e-16+1.46014283e-16j,\n",
       "       -1.26052103e-16-1.46014283e-16j,  1.87740604e-16-2.45164443e-17j,\n",
       "        1.87740604e-16+2.45164443e-17j,  9.43078805e-17+0.00000000e+00j,\n",
       "       -2.18537954e-17+6.50285006e-17j, -2.18537954e-17-6.50285006e-17j,\n",
       "       -5.86878719e-17+6.40042503e-18j, -5.86878719e-17-6.40042503e-18j,\n",
       "        1.71921189e-17+3.93777726e-17j,  1.71921189e-17-3.93777726e-17j,\n",
       "       -4.00606238e-17+0.00000000e+00j,  3.16204746e-17+9.48380416e-18j,\n",
       "        3.16204746e-17-9.48380416e-18j, -1.98252636e-17-2.39667733e-17j,\n",
       "       -1.98252636e-17+2.39667733e-17j,  1.91212582e-17-1.51670146e-17j,\n",
       "        1.91212582e-17+1.51670146e-17j,  1.86058468e-17-4.35481761e-18j,\n",
       "        1.86058468e-17+4.35481761e-18j,  1.84974976e-18-1.89859954e-17j,\n",
       "        1.84974976e-18+1.89859954e-17j,  1.89477327e-17+0.00000000e+00j,\n",
       "        8.57040817e-18+1.67753584e-17j,  8.57040817e-18-1.67753584e-17j,\n",
       "       -1.18557520e-17-1.41728155e-17j, -1.18557520e-17+1.41728155e-17j,\n",
       "       -1.06010919e-17-1.43444610e-17j, -1.06010919e-17+1.43444610e-17j,\n",
       "       -1.68263516e-17+0.00000000e+00j, -1.29663268e-17+1.03674268e-17j,\n",
       "       -1.29663268e-17-1.03674268e-17j,  1.05979850e-17+1.18623413e-17j,\n",
       "        1.05979850e-17-1.18623413e-17j, -1.53581327e-17+0.00000000e+00j,\n",
       "       -3.37750401e-18-1.46414120e-17j, -3.37750401e-18+1.46414120e-17j,\n",
       "        1.36171673e-17+3.35211588e-18j,  1.36171673e-17-3.35211588e-18j,\n",
       "       -1.28208141e-17-4.85077448e-18j, -1.28208141e-17+4.85077448e-18j,\n",
       "       -1.25967847e-17+0.00000000e+00j,  1.19617664e-17+0.00000000e+00j,\n",
       "       -9.57465028e-18-6.96237638e-18j, -9.57465028e-18+6.96237638e-18j,\n",
       "        1.26907590e-18+1.10445964e-17j,  1.26907590e-18-1.10445964e-17j,\n",
       "        7.47007634e-18+7.76287349e-18j,  7.47007634e-18-7.76287349e-18j,\n",
       "       -7.52568687e-20+9.51100258e-18j, -7.52568687e-20-9.51100258e-18j,\n",
       "        4.27861422e-18+8.25505066e-18j,  4.27861422e-18-8.25505066e-18j,\n",
       "       -8.94438973e-18-2.27114505e-18j, -8.94438973e-18+2.27114505e-18j,\n",
       "        7.45975665e-18-5.35120411e-18j,  7.45975665e-18+5.35120411e-18j,\n",
       "       -8.03400120e-18+3.65918145e-18j, -8.03400120e-18-3.65918145e-18j,\n",
       "       -8.54209321e-18+0.00000000e+00j,  8.13609228e-18-1.78232644e-18j,\n",
       "        8.13609228e-18+1.78232644e-18j,  1.63590153e-18-7.77355679e-18j,\n",
       "        1.63590153e-18+7.77355679e-18j, -7.47368027e-18+0.00000000e+00j,\n",
       "       -2.64802380e-18+5.97922859e-18j, -2.64802380e-18-5.97922859e-18j,\n",
       "        4.82038293e-18+3.88782080e-18j,  4.82038293e-18-3.88782080e-18j,\n",
       "       -2.18821353e-18-5.50150778e-18j, -2.18821353e-18+5.50150778e-18j,\n",
       "        5.79258790e-18+0.00000000e+00j, -4.88705978e-18-2.49426130e-19j,\n",
       "       -4.88705978e-18+2.49426130e-19j, -4.09512441e-18-2.62889199e-18j,\n",
       "       -4.09512441e-18+2.62889199e-18j,  3.62401713e-18-2.61954564e-18j,\n",
       "        3.62401713e-18+2.61954564e-18j,  3.98085398e-18+0.00000000e+00j,\n",
       "       -2.89938750e-18+2.50636551e-18j, -2.89938750e-18-2.50636551e-18j,\n",
       "        3.46254349e-19+3.74234195e-18j,  3.46254349e-19-3.74234195e-18j,\n",
       "        1.34599549e-18+2.98071939e-18j,  1.34599549e-18-2.98071939e-18j,\n",
       "        3.19932528e-18+0.00000000e+00j, -1.02576127e-18-2.91493784e-18j,\n",
       "       -1.02576127e-18+2.91493784e-18j,  2.64732207e-18+0.00000000e+00j,\n",
       "        1.09965053e-18+2.20709811e-18j,  1.09965053e-18-2.20709811e-18j,\n",
       "       -2.01519325e-18+0.00000000e+00j, -1.88160754e-18+0.00000000e+00j,\n",
       "       -6.78696252e-19-1.74233006e-18j, -6.78696252e-19+1.74233006e-18j,\n",
       "        1.27356628e-18-1.14724947e-18j,  1.27356628e-18+1.14724947e-18j,\n",
       "       -1.37256238e-18+0.00000000e+00j,  1.35086857e-18+0.00000000e+00j,\n",
       "        1.20034512e-18+0.00000000e+00j, -3.27486498e-19+0.00000000e+00j])"
      ]
     },
     "execution_count": 35,
     "metadata": {},
     "output_type": "execute_result"
    }
   ],
   "source": [
    "MSM.eigenvalues()"
   ]
  },
  {
   "cell_type": "code",
   "execution_count": 16,
   "id": "50ed2b84-8145-4694-ba66-163b0bee1cd7",
   "metadata": {},
   "outputs": [],
   "source": [
    "koopmanMat = MSM.to_koopman_model(empirical=False)"
   ]
  },
  {
   "cell_type": "code",
   "execution_count": 17,
   "id": "b036da92-57e4-45fb-b208-2a46bc959b73",
   "metadata": {
    "scrolled": true
   },
   "outputs": [
    {
     "data": {
      "text/plain": [
       "array([1., 0., 0., 0., 0., 0., 0., 0., 0., 0., 0., 0., 0., 0., 0., 0., 0.,\n",
       "       0., 0., 0., 0., 0., 0., 0., 0., 0., 0., 0., 0., 0., 0., 0., 0., 0.,\n",
       "       0., 0., 0., 0., 0., 0., 0., 0., 0., 0., 0., 0., 0., 0., 0., 0., 0.,\n",
       "       0., 0., 0., 0., 0., 0., 0., 0., 0., 0., 0., 0., 0., 0., 0., 0., 0.,\n",
       "       0., 0., 0., 0., 0., 0., 0., 0., 0., 0., 0., 0., 0., 0., 0., 0., 0.,\n",
       "       0., 0., 0., 0., 0., 0., 0., 0., 0., 0., 0., 0., 0., 0., 0., 0., 0.,\n",
       "       0., 0., 0., 0., 0., 0., 0., 0., 0., 0., 0., 0., 0., 0., 0., 0., 0.,\n",
       "       0., 0., 0., 0., 0., 0., 0., 0., 0., 0., 0., 0., 0., 0., 0., 0., 0.,\n",
       "       0., 0., 0., 0., 0., 0., 0., 0., 0., 0., 0., 0., 0., 0., 0., 0., 0.,\n",
       "       0., 0., 0., 0., 0., 0., 0., 0., 0., 0., 0., 0., 0., 0., 0., 0., 0.,\n",
       "       0., 0., 0., 0., 0., 0., 0., 0., 0., 0., 0., 0., 0., 0., 0., 0., 0.,\n",
       "       0., 0., 0., 0., 0., 0., 0., 0., 0., 0., 0., 0., 0., 0., 0., 0., 0.,\n",
       "       0., 0., 0., 0., 0., 0., 0., 0., 0., 0., 0., 0., 0., 0., 0., 0., 0.,\n",
       "       0., 0., 0., 0., 0., 0., 0., 0., 0., 0., 0., 0., 0., 0., 0., 0., 0.,\n",
       "       0., 0., 0., 0., 0., 0., 0., 0., 0., 0., 0., 0., 0., 0., 0., 0., 0.,\n",
       "       0.])"
      ]
     },
     "execution_count": 17,
     "metadata": {},
     "output_type": "execute_result"
    }
   ],
   "source": [
    "koopmanMat.koopman_matrix[0]"
   ]
  },
  {
   "cell_type": "code",
   "execution_count": 26,
   "id": "cfb224fd-3ddd-460c-9c2f-4507e4662d15",
   "metadata": {
    "collapsed": true,
    "jupyter": {
     "outputs_hidden": true,
     "source_hidden": true
    },
    "scrolled": true
   },
   "outputs": [
    {
     "data": {
      "text/plain": [
       "np.True_"
      ]
     },
     "execution_count": 26,
     "metadata": {},
     "output_type": "execute_result"
    }
   ],
   "source": [
    "np.all(MSM.koopman_model.koopman_matrix == koopmanMat.koopman_matrix)"
   ]
  },
  {
   "cell_type": "code",
   "execution_count": 18,
   "id": "088dac2c-099b-4cc0-83d2-0303392e4864",
   "metadata": {},
   "outputs": [
    {
     "data": {
      "text/plain": [
       "129"
      ]
     },
     "execution_count": 18,
     "metadata": {},
     "output_type": "execute_result"
    }
   ],
   "source": [
    "start = np.random.randint(0, 2**8)\n",
    "start"
   ]
  },
  {
   "cell_type": "code",
   "execution_count": 19,
   "id": "e599b848-c894-4644-9acb-7c2441acfa3e",
   "metadata": {},
   "outputs": [],
   "source": [
    "traj = MSM.simulate(10**6, start=start)"
   ]
  },
  {
   "cell_type": "code",
   "execution_count": 20,
   "id": "a2174ace-b9b9-4801-9941-58678f3102b3",
   "metadata": {},
   "outputs": [],
   "source": [
    "traj = MSM.simulate(200, start=start)"
   ]
  },
  {
   "cell_type": "code",
   "execution_count": 21,
   "id": "47fa8a0f-6f36-4926-a95e-cba1b01133cd",
   "metadata": {},
   "outputs": [
    {
     "data": {
      "text/plain": [
       "array([129, 212, 154, 200,  66, 140,  38, 225, 194, 176, 138, 216, 217,\n",
       "       216,  98, 213, 140, 140, 214, 244, 248, 200, 188, 185, 196, 219,\n",
       "        76, 154, 210, 212,  56, 242, 194, 120, 220, 150, 221, 106, 196,\n",
       "        84, 177, 110, 124, 205, 131,  88, 226, 176,  89,  88, 224, 100,\n",
       "       232, 184, 230, 178, 232,  61, 177, 228,  65, 201, 252, 176, 168,\n",
       "       248, 236,  56, 172, 118,  40, 212, 242, 156,  41, 221, 190, 232,\n",
       "       121,  90, 212, 164, 165, 224, 198, 228, 198, 236, 208, 152,  26,\n",
       "       228, 168, 176, 184, 210, 243, 204, 148, 160, 226, 244, 216, 114,\n",
       "       214, 154, 170, 240, 148, 240, 214, 138, 202, 161, 245, 248, 210,\n",
       "       178,  73,  59, 228, 236, 200,  81, 120, 212, 150, 162, 202, 180,\n",
       "       152, 155, 216, 224, 198, 106, 115, 186, 212, 246, 156,  52, 186,\n",
       "       178, 188, 115, 106, 136, 146, 228,  98,  90,  83,  96,  80, 113,\n",
       "       252, 212, 196, 196, 120, 110, 216, 192, 240,  50, 154, 172, 153,\n",
       "        88,  99, 232, 152, 252, 248, 200, 226, 244, 201, 108, 200, 102,\n",
       "       220,  56, 146, 185, 228, 133, 218, 224,  97,  48, 208, 197, 114,\n",
       "       102, 242, 232, 241, 169], dtype=int32)"
      ]
     },
     "execution_count": 21,
     "metadata": {},
     "output_type": "execute_result"
    }
   ],
   "source": [
    "traj"
   ]
  },
  {
   "cell_type": "code",
   "execution_count": 22,
   "id": "879f03bf-e4d7-49a8-8eeb-7fdf3dc15073",
   "metadata": {
    "scrolled": true
   },
   "outputs": [
    {
     "name": "stdout",
     "output_type": "stream",
     "text": [
      "129 [1 0 0 0 0 0 0 1] 2 212 [1 1 0 1 0 1 0 0] 4 2 True\n",
      "212 [1 1 0 1 0 1 0 0] 4 154 [1 0 0 1 1 0 1 0] 4 0 False\n",
      "154 [1 0 0 1 1 0 1 0] 4 200 [1 1 0 0 1 0 0 0] 3 -1 True\n",
      "200 [1 1 0 0 1 0 0 0] 3 66 [0 1 0 0 0 0 1 0] 2 -1 True\n",
      "66 [0 1 0 0 0 0 1 0] 2 140 [1 0 0 0 1 1 0 0] 3 1 True\n",
      "140 [1 0 0 0 1 1 0 0] 3 38 [0 0 1 0 0 1 1 0] 3 0 False\n",
      "38 [0 0 1 0 0 1 1 0] 3 225 [1 1 1 0 0 0 0 1] 4 1 True\n",
      "225 [1 1 1 0 0 0 0 1] 4 194 [1 1 0 0 0 0 1 0] 3 -1 True\n",
      "194 [1 1 0 0 0 0 1 0] 3 176 [1 0 1 1 0 0 0 0] 3 0 False\n",
      "176 [1 0 1 1 0 0 0 0] 3 138 [1 0 0 0 1 0 1 0] 3 0 False\n",
      "138 [1 0 0 0 1 0 1 0] 3 216 [1 1 0 1 1 0 0 0] 4 1 True\n",
      "216 [1 1 0 1 1 0 0 0] 4 217 [1 1 0 1 1 0 0 1] 5 1 True\n",
      "217 [1 1 0 1 1 0 0 1] 5 216 [1 1 0 1 1 0 0 0] 4 -1 True\n",
      "216 [1 1 0 1 1 0 0 0] 4 98 [0 1 1 0 0 0 1 0] 3 -1 True\n",
      "98 [0 1 1 0 0 0 1 0] 3 213 [1 1 0 1 0 1 0 1] 5 2 True\n",
      "213 [1 1 0 1 0 1 0 1] 5 140 [1 0 0 0 1 1 0 0] 3 -2 True\n",
      "140 [1 0 0 0 1 1 0 0] 3 140 [1 0 0 0 1 1 0 0] 3 0 False\n",
      "140 [1 0 0 0 1 1 0 0] 3 214 [1 1 0 1 0 1 1 0] 5 2 True\n",
      "214 [1 1 0 1 0 1 1 0] 5 244 [1 1 1 1 0 1 0 0] 5 0 False\n",
      "244 [1 1 1 1 0 1 0 0] 5 248 [1 1 1 1 1 0 0 0] 5 0 False\n",
      "248 [1 1 1 1 1 0 0 0] 5 200 [1 1 0 0 1 0 0 0] 3 -2 True\n",
      "200 [1 1 0 0 1 0 0 0] 3 188 [1 0 1 1 1 1 0 0] 5 2 True\n",
      "188 [1 0 1 1 1 1 0 0] 5 185 [1 0 1 1 1 0 0 1] 5 0 False\n",
      "185 [1 0 1 1 1 0 0 1] 5 196 [1 1 0 0 0 1 0 0] 3 -2 True\n",
      "196 [1 1 0 0 0 1 0 0] 3 219 [1 1 0 1 1 0 1 1] 6 3 True\n",
      "219 [1 1 0 1 1 0 1 1] 6 76 [0 1 0 0 1 1 0 0] 3 -3 True\n",
      "76 [0 1 0 0 1 1 0 0] 3 154 [1 0 0 1 1 0 1 0] 4 1 True\n",
      "154 [1 0 0 1 1 0 1 0] 4 210 [1 1 0 1 0 0 1 0] 4 0 False\n",
      "210 [1 1 0 1 0 0 1 0] 4 212 [1 1 0 1 0 1 0 0] 4 0 False\n",
      "212 [1 1 0 1 0 1 0 0] 4 56 [0 0 1 1 1 0 0 0] 3 -1 True\n",
      "56 [0 0 1 1 1 0 0 0] 3 242 [1 1 1 1 0 0 1 0] 5 2 True\n",
      "242 [1 1 1 1 0 0 1 0] 5 194 [1 1 0 0 0 0 1 0] 3 -2 True\n",
      "194 [1 1 0 0 0 0 1 0] 3 120 [0 1 1 1 1 0 0 0] 4 1 True\n",
      "120 [0 1 1 1 1 0 0 0] 4 220 [1 1 0 1 1 1 0 0] 5 1 True\n",
      "220 [1 1 0 1 1 1 0 0] 5 150 [1 0 0 1 0 1 1 0] 4 -1 True\n",
      "150 [1 0 0 1 0 1 1 0] 4 221 [1 1 0 1 1 1 0 1] 6 2 True\n",
      "221 [1 1 0 1 1 1 0 1] 6 106 [0 1 1 0 1 0 1 0] 4 -2 True\n",
      "106 [0 1 1 0 1 0 1 0] 4 196 [1 1 0 0 0 1 0 0] 3 -1 True\n",
      "196 [1 1 0 0 0 1 0 0] 3 84 [0 1 0 1 0 1 0 0] 3 0 False\n",
      "84 [0 1 0 1 0 1 0 0] 3 177 [1 0 1 1 0 0 0 1] 4 1 True\n",
      "177 [1 0 1 1 0 0 0 1] 4 110 [0 1 1 0 1 1 1 0] 5 1 True\n",
      "110 [0 1 1 0 1 1 1 0] 5 124 [0 1 1 1 1 1 0 0] 5 0 False\n",
      "124 [0 1 1 1 1 1 0 0] 5 205 [1 1 0 0 1 1 0 1] 5 0 False\n",
      "205 [1 1 0 0 1 1 0 1] 5 131 [1 0 0 0 0 0 1 1] 3 -2 True\n",
      "131 [1 0 0 0 0 0 1 1] 3 88 [0 1 0 1 1 0 0 0] 3 0 False\n",
      "88 [0 1 0 1 1 0 0 0] 3 226 [1 1 1 0 0 0 1 0] 4 1 True\n",
      "226 [1 1 1 0 0 0 1 0] 4 176 [1 0 1 1 0 0 0 0] 3 -1 True\n",
      "176 [1 0 1 1 0 0 0 0] 3 89 [0 1 0 1 1 0 0 1] 4 1 True\n",
      "89 [0 1 0 1 1 0 0 1] 4 88 [0 1 0 1 1 0 0 0] 3 -1 True\n",
      "88 [0 1 0 1 1 0 0 0] 3 224 [1 1 1 0 0 0 0 0] 3 0 False\n",
      "224 [1 1 1 0 0 0 0 0] 3 100 [0 1 1 0 0 1 0 0] 3 0 False\n",
      "100 [0 1 1 0 0 1 0 0] 3 232 [1 1 1 0 1 0 0 0] 4 1 True\n",
      "232 [1 1 1 0 1 0 0 0] 4 184 [1 0 1 1 1 0 0 0] 4 0 False\n",
      "184 [1 0 1 1 1 0 0 0] 4 230 [1 1 1 0 0 1 1 0] 5 1 True\n",
      "230 [1 1 1 0 0 1 1 0] 5 178 [1 0 1 1 0 0 1 0] 4 -1 True\n",
      "178 [1 0 1 1 0 0 1 0] 4 232 [1 1 1 0 1 0 0 0] 4 0 False\n",
      "232 [1 1 1 0 1 0 0 0] 4 61 [0 0 1 1 1 1 0 1] 5 1 True\n",
      "61 [0 0 1 1 1 1 0 1] 5 177 [1 0 1 1 0 0 0 1] 4 -1 True\n",
      "177 [1 0 1 1 0 0 0 1] 4 228 [1 1 1 0 0 1 0 0] 4 0 False\n",
      "228 [1 1 1 0 0 1 0 0] 4 65 [0 1 0 0 0 0 0 1] 2 -2 True\n",
      "65 [0 1 0 0 0 0 0 1] 2 201 [1 1 0 0 1 0 0 1] 4 2 True\n",
      "201 [1 1 0 0 1 0 0 1] 4 252 [1 1 1 1 1 1 0 0] 6 2 True\n",
      "252 [1 1 1 1 1 1 0 0] 6 176 [1 0 1 1 0 0 0 0] 3 -3 True\n",
      "176 [1 0 1 1 0 0 0 0] 3 168 [1 0 1 0 1 0 0 0] 3 0 False\n",
      "168 [1 0 1 0 1 0 0 0] 3 248 [1 1 1 1 1 0 0 0] 5 2 True\n",
      "248 [1 1 1 1 1 0 0 0] 5 236 [1 1 1 0 1 1 0 0] 5 0 False\n",
      "236 [1 1 1 0 1 1 0 0] 5 56 [0 0 1 1 1 0 0 0] 3 -2 True\n",
      "56 [0 0 1 1 1 0 0 0] 3 172 [1 0 1 0 1 1 0 0] 4 1 True\n",
      "172 [1 0 1 0 1 1 0 0] 4 118 [0 1 1 1 0 1 1 0] 5 1 True\n",
      "118 [0 1 1 1 0 1 1 0] 5 40 [0 0 1 0 1 0 0 0] 2 -3 True\n",
      "40 [0 0 1 0 1 0 0 0] 2 212 [1 1 0 1 0 1 0 0] 4 2 True\n",
      "212 [1 1 0 1 0 1 0 0] 4 242 [1 1 1 1 0 0 1 0] 5 1 True\n",
      "242 [1 1 1 1 0 0 1 0] 5 156 [1 0 0 1 1 1 0 0] 4 -1 True\n",
      "156 [1 0 0 1 1 1 0 0] 4 41 [0 0 1 0 1 0 0 1] 3 -1 True\n",
      "41 [0 0 1 0 1 0 0 1] 3 221 [1 1 0 1 1 1 0 1] 6 3 True\n",
      "221 [1 1 0 1 1 1 0 1] 6 190 [1 0 1 1 1 1 1 0] 6 0 False\n",
      "190 [1 0 1 1 1 1 1 0] 6 232 [1 1 1 0 1 0 0 0] 4 -2 True\n",
      "232 [1 1 1 0 1 0 0 0] 4 121 [0 1 1 1 1 0 0 1] 5 1 True\n",
      "121 [0 1 1 1 1 0 0 1] 5 90 [0 1 0 1 1 0 1 0] 4 -1 True\n",
      "90 [0 1 0 1 1 0 1 0] 4 212 [1 1 0 1 0 1 0 0] 4 0 False\n",
      "212 [1 1 0 1 0 1 0 0] 4 164 [1 0 1 0 0 1 0 0] 3 -1 True\n",
      "164 [1 0 1 0 0 1 0 0] 3 165 [1 0 1 0 0 1 0 1] 4 1 True\n",
      "165 [1 0 1 0 0 1 0 1] 4 224 [1 1 1 0 0 0 0 0] 3 -1 True\n",
      "224 [1 1 1 0 0 0 0 0] 3 198 [1 1 0 0 0 1 1 0] 4 1 True\n",
      "198 [1 1 0 0 0 1 1 0] 4 228 [1 1 1 0 0 1 0 0] 4 0 False\n",
      "228 [1 1 1 0 0 1 0 0] 4 198 [1 1 0 0 0 1 1 0] 4 0 False\n",
      "198 [1 1 0 0 0 1 1 0] 4 236 [1 1 1 0 1 1 0 0] 5 1 True\n",
      "236 [1 1 1 0 1 1 0 0] 5 208 [1 1 0 1 0 0 0 0] 3 -2 True\n",
      "208 [1 1 0 1 0 0 0 0] 3 152 [1 0 0 1 1 0 0 0] 3 0 False\n",
      "152 [1 0 0 1 1 0 0 0] 3 26 [0 0 0 1 1 0 1 0] 3 0 False\n",
      "26 [0 0 0 1 1 0 1 0] 3 228 [1 1 1 0 0 1 0 0] 4 1 True\n",
      "228 [1 1 1 0 0 1 0 0] 4 168 [1 0 1 0 1 0 0 0] 3 -1 True\n",
      "168 [1 0 1 0 1 0 0 0] 3 176 [1 0 1 1 0 0 0 0] 3 0 False\n",
      "176 [1 0 1 1 0 0 0 0] 3 184 [1 0 1 1 1 0 0 0] 4 1 True\n",
      "184 [1 0 1 1 1 0 0 0] 4 210 [1 1 0 1 0 0 1 0] 4 0 False\n",
      "210 [1 1 0 1 0 0 1 0] 4 243 [1 1 1 1 0 0 1 1] 6 2 True\n",
      "243 [1 1 1 1 0 0 1 1] 6 204 [1 1 0 0 1 1 0 0] 4 -2 True\n",
      "204 [1 1 0 0 1 1 0 0] 4 148 [1 0 0 1 0 1 0 0] 3 -1 True\n",
      "148 [1 0 0 1 0 1 0 0] 3 160 [1 0 1 0 0 0 0 0] 2 -1 True\n",
      "160 [1 0 1 0 0 0 0 0] 2 226 [1 1 1 0 0 0 1 0] 4 2 True\n",
      "226 [1 1 1 0 0 0 1 0] 4 244 [1 1 1 1 0 1 0 0] 5 1 True\n",
      "244 [1 1 1 1 0 1 0 0] 5 216 [1 1 0 1 1 0 0 0] 4 -1 True\n",
      "216 [1 1 0 1 1 0 0 0] 4 114 [0 1 1 1 0 0 1 0] 4 0 False\n",
      "114 [0 1 1 1 0 0 1 0] 4 214 [1 1 0 1 0 1 1 0] 5 1 True\n",
      "214 [1 1 0 1 0 1 1 0] 5 154 [1 0 0 1 1 0 1 0] 4 -1 True\n",
      "154 [1 0 0 1 1 0 1 0] 4 170 [1 0 1 0 1 0 1 0] 4 0 False\n",
      "170 [1 0 1 0 1 0 1 0] 4 240 [1 1 1 1 0 0 0 0] 4 0 False\n",
      "240 [1 1 1 1 0 0 0 0] 4 148 [1 0 0 1 0 1 0 0] 3 -1 True\n",
      "148 [1 0 0 1 0 1 0 0] 3 240 [1 1 1 1 0 0 0 0] 4 1 True\n",
      "240 [1 1 1 1 0 0 0 0] 4 214 [1 1 0 1 0 1 1 0] 5 1 True\n",
      "214 [1 1 0 1 0 1 1 0] 5 138 [1 0 0 0 1 0 1 0] 3 -2 True\n",
      "138 [1 0 0 0 1 0 1 0] 3 202 [1 1 0 0 1 0 1 0] 4 1 True\n",
      "202 [1 1 0 0 1 0 1 0] 4 161 [1 0 1 0 0 0 0 1] 3 -1 True\n",
      "161 [1 0 1 0 0 0 0 1] 3 245 [1 1 1 1 0 1 0 1] 6 3 True\n",
      "245 [1 1 1 1 0 1 0 1] 6 248 [1 1 1 1 1 0 0 0] 5 -1 True\n",
      "248 [1 1 1 1 1 0 0 0] 5 210 [1 1 0 1 0 0 1 0] 4 -1 True\n",
      "210 [1 1 0 1 0 0 1 0] 4 178 [1 0 1 1 0 0 1 0] 4 0 False\n",
      "178 [1 0 1 1 0 0 1 0] 4 73 [0 1 0 0 1 0 0 1] 3 -1 True\n",
      "73 [0 1 0 0 1 0 0 1] 3 59 [0 0 1 1 1 0 1 1] 5 2 True\n",
      "59 [0 0 1 1 1 0 1 1] 5 228 [1 1 1 0 0 1 0 0] 4 -1 True\n",
      "228 [1 1 1 0 0 1 0 0] 4 236 [1 1 1 0 1 1 0 0] 5 1 True\n",
      "236 [1 1 1 0 1 1 0 0] 5 200 [1 1 0 0 1 0 0 0] 3 -2 True\n",
      "200 [1 1 0 0 1 0 0 0] 3 81 [0 1 0 1 0 0 0 1] 3 0 False\n",
      "81 [0 1 0 1 0 0 0 1] 3 120 [0 1 1 1 1 0 0 0] 4 1 True\n",
      "120 [0 1 1 1 1 0 0 0] 4 212 [1 1 0 1 0 1 0 0] 4 0 False\n",
      "212 [1 1 0 1 0 1 0 0] 4 150 [1 0 0 1 0 1 1 0] 4 0 False\n",
      "150 [1 0 0 1 0 1 1 0] 4 162 [1 0 1 0 0 0 1 0] 3 -1 True\n",
      "162 [1 0 1 0 0 0 1 0] 3 202 [1 1 0 0 1 0 1 0] 4 1 True\n",
      "202 [1 1 0 0 1 0 1 0] 4 180 [1 0 1 1 0 1 0 0] 4 0 False\n",
      "180 [1 0 1 1 0 1 0 0] 4 152 [1 0 0 1 1 0 0 0] 3 -1 True\n",
      "152 [1 0 0 1 1 0 0 0] 3 155 [1 0 0 1 1 0 1 1] 5 2 True\n",
      "155 [1 0 0 1 1 0 1 1] 5 216 [1 1 0 1 1 0 0 0] 4 -1 True\n",
      "216 [1 1 0 1 1 0 0 0] 4 224 [1 1 1 0 0 0 0 0] 3 -1 True\n",
      "224 [1 1 1 0 0 0 0 0] 3 198 [1 1 0 0 0 1 1 0] 4 1 True\n",
      "198 [1 1 0 0 0 1 1 0] 4 106 [0 1 1 0 1 0 1 0] 4 0 False\n",
      "106 [0 1 1 0 1 0 1 0] 4 115 [0 1 1 1 0 0 1 1] 5 1 True\n",
      "115 [0 1 1 1 0 0 1 1] 5 186 [1 0 1 1 1 0 1 0] 5 0 False\n",
      "186 [1 0 1 1 1 0 1 0] 5 212 [1 1 0 1 0 1 0 0] 4 -1 True\n",
      "212 [1 1 0 1 0 1 0 0] 4 246 [1 1 1 1 0 1 1 0] 6 2 True\n",
      "246 [1 1 1 1 0 1 1 0] 6 156 [1 0 0 1 1 1 0 0] 4 -2 True\n",
      "156 [1 0 0 1 1 1 0 0] 4 52 [0 0 1 1 0 1 0 0] 3 -1 True\n",
      "52 [0 0 1 1 0 1 0 0] 3 186 [1 0 1 1 1 0 1 0] 5 2 True\n",
      "186 [1 0 1 1 1 0 1 0] 5 178 [1 0 1 1 0 0 1 0] 4 -1 True\n",
      "178 [1 0 1 1 0 0 1 0] 4 188 [1 0 1 1 1 1 0 0] 5 1 True\n",
      "188 [1 0 1 1 1 1 0 0] 5 115 [0 1 1 1 0 0 1 1] 5 0 False\n",
      "115 [0 1 1 1 0 0 1 1] 5 106 [0 1 1 0 1 0 1 0] 4 -1 True\n",
      "106 [0 1 1 0 1 0 1 0] 4 136 [1 0 0 0 1 0 0 0] 2 -2 True\n",
      "136 [1 0 0 0 1 0 0 0] 2 146 [1 0 0 1 0 0 1 0] 3 1 True\n",
      "146 [1 0 0 1 0 0 1 0] 3 228 [1 1 1 0 0 1 0 0] 4 1 True\n",
      "228 [1 1 1 0 0 1 0 0] 4 98 [0 1 1 0 0 0 1 0] 3 -1 True\n",
      "98 [0 1 1 0 0 0 1 0] 3 90 [0 1 0 1 1 0 1 0] 4 1 True\n",
      "90 [0 1 0 1 1 0 1 0] 4 83 [0 1 0 1 0 0 1 1] 4 0 False\n",
      "83 [0 1 0 1 0 0 1 1] 4 96 [0 1 1 0 0 0 0 0] 2 -2 True\n",
      "96 [0 1 1 0 0 0 0 0] 2 80 [0 1 0 1 0 0 0 0] 2 0 False\n",
      "80 [0 1 0 1 0 0 0 0] 2 113 [0 1 1 1 0 0 0 1] 4 2 True\n",
      "113 [0 1 1 1 0 0 0 1] 4 252 [1 1 1 1 1 1 0 0] 6 2 True\n",
      "252 [1 1 1 1 1 1 0 0] 6 212 [1 1 0 1 0 1 0 0] 4 -2 True\n",
      "212 [1 1 0 1 0 1 0 0] 4 196 [1 1 0 0 0 1 0 0] 3 -1 True\n",
      "196 [1 1 0 0 0 1 0 0] 3 196 [1 1 0 0 0 1 0 0] 3 0 False\n",
      "196 [1 1 0 0 0 1 0 0] 3 120 [0 1 1 1 1 0 0 0] 4 1 True\n",
      "120 [0 1 1 1 1 0 0 0] 4 110 [0 1 1 0 1 1 1 0] 5 1 True\n",
      "110 [0 1 1 0 1 1 1 0] 5 216 [1 1 0 1 1 0 0 0] 4 -1 True\n",
      "216 [1 1 0 1 1 0 0 0] 4 192 [1 1 0 0 0 0 0 0] 2 -2 True\n",
      "192 [1 1 0 0 0 0 0 0] 2 240 [1 1 1 1 0 0 0 0] 4 2 True\n",
      "240 [1 1 1 1 0 0 0 0] 4 50 [0 0 1 1 0 0 1 0] 3 -1 True\n",
      "50 [0 0 1 1 0 0 1 0] 3 154 [1 0 0 1 1 0 1 0] 4 1 True\n",
      "154 [1 0 0 1 1 0 1 0] 4 172 [1 0 1 0 1 1 0 0] 4 0 False\n",
      "172 [1 0 1 0 1 1 0 0] 4 153 [1 0 0 1 1 0 0 1] 4 0 False\n",
      "153 [1 0 0 1 1 0 0 1] 4 88 [0 1 0 1 1 0 0 0] 3 -1 True\n",
      "88 [0 1 0 1 1 0 0 0] 3 99 [0 1 1 0 0 0 1 1] 4 1 True\n",
      "99 [0 1 1 0 0 0 1 1] 4 232 [1 1 1 0 1 0 0 0] 4 0 False\n",
      "232 [1 1 1 0 1 0 0 0] 4 152 [1 0 0 1 1 0 0 0] 3 -1 True\n",
      "152 [1 0 0 1 1 0 0 0] 3 252 [1 1 1 1 1 1 0 0] 6 3 True\n",
      "252 [1 1 1 1 1 1 0 0] 6 248 [1 1 1 1 1 0 0 0] 5 -1 True\n",
      "248 [1 1 1 1 1 0 0 0] 5 200 [1 1 0 0 1 0 0 0] 3 -2 True\n",
      "200 [1 1 0 0 1 0 0 0] 3 226 [1 1 1 0 0 0 1 0] 4 1 True\n",
      "226 [1 1 1 0 0 0 1 0] 4 244 [1 1 1 1 0 1 0 0] 5 1 True\n",
      "244 [1 1 1 1 0 1 0 0] 5 201 [1 1 0 0 1 0 0 1] 4 -1 True\n",
      "201 [1 1 0 0 1 0 0 1] 4 108 [0 1 1 0 1 1 0 0] 4 0 False\n",
      "108 [0 1 1 0 1 1 0 0] 4 200 [1 1 0 0 1 0 0 0] 3 -1 True\n",
      "200 [1 1 0 0 1 0 0 0] 3 102 [0 1 1 0 0 1 1 0] 4 1 True\n",
      "102 [0 1 1 0 0 1 1 0] 4 220 [1 1 0 1 1 1 0 0] 5 1 True\n",
      "220 [1 1 0 1 1 1 0 0] 5 56 [0 0 1 1 1 0 0 0] 3 -2 True\n",
      "56 [0 0 1 1 1 0 0 0] 3 146 [1 0 0 1 0 0 1 0] 3 0 False\n",
      "146 [1 0 0 1 0 0 1 0] 3 185 [1 0 1 1 1 0 0 1] 5 2 True\n",
      "185 [1 0 1 1 1 0 0 1] 5 228 [1 1 1 0 0 1 0 0] 4 -1 True\n",
      "228 [1 1 1 0 0 1 0 0] 4 133 [1 0 0 0 0 1 0 1] 3 -1 True\n",
      "133 [1 0 0 0 0 1 0 1] 3 218 [1 1 0 1 1 0 1 0] 5 2 True\n",
      "218 [1 1 0 1 1 0 1 0] 5 224 [1 1 1 0 0 0 0 0] 3 -2 True\n",
      "224 [1 1 1 0 0 0 0 0] 3 97 [0 1 1 0 0 0 0 1] 3 0 False\n",
      "97 [0 1 1 0 0 0 0 1] 3 48 [0 0 1 1 0 0 0 0] 2 -1 True\n",
      "48 [0 0 1 1 0 0 0 0] 2 208 [1 1 0 1 0 0 0 0] 3 1 True\n",
      "208 [1 1 0 1 0 0 0 0] 3 197 [1 1 0 0 0 1 0 1] 4 1 True\n",
      "197 [1 1 0 0 0 1 0 1] 4 114 [0 1 1 1 0 0 1 0] 4 0 False\n",
      "114 [0 1 1 1 0 0 1 0] 4 102 [0 1 1 0 0 1 1 0] 4 0 False\n",
      "102 [0 1 1 0 0 1 1 0] 4 242 [1 1 1 1 0 0 1 0] 5 1 True\n",
      "242 [1 1 1 1 0 0 1 0] 5 232 [1 1 1 0 1 0 0 0] 4 -1 True\n",
      "232 [1 1 1 0 1 0 0 0] 4 241 [1 1 1 1 0 0 0 1] 5 1 True\n",
      "241 [1 1 1 1 0 0 0 1] 5 169 [1 0 1 0 1 0 0 1] 4 -1 True\n"
     ]
    }
   ],
   "source": [
    "for i, j in zip(traj[:-1], traj[1:]):\n",
    "    K, _ = isConduction(microstates[i], microstates[j]) \n",
    "    print(i, microstates[i], microstates[i].sum(), \n",
    "          j, microstates[j], microstates[j].sum(),\n",
    "          K, _)"
   ]
  },
  {
   "cell_type": "code",
   "execution_count": 27,
   "id": "942f6773-296a-479a-ae3d-e74fa008bdd9",
   "metadata": {},
   "outputs": [
    {
     "data": {
      "text/plain": [
       "array([0, 0, 0, 0, 1, 0, 0, 1])"
      ]
     },
     "execution_count": 27,
     "metadata": {},
     "output_type": "execute_result"
    }
   ],
   "source": [
    "microstates[9]"
   ]
  },
  {
   "cell_type": "code",
   "execution_count": 31,
   "id": "9048c9f4-ed1e-497b-9242-9cd7fa7b63c0",
   "metadata": {},
   "outputs": [
    {
     "data": {
      "image/png": "[encoded data removed]",
      "text/plain": [
       "<Figure size 975x750 with 1 Axes>"
      ]
     },
     "metadata": {},
     "output_type": "display_data"
    }
   ],
   "source": [
    "# plt.imshow(microstates[12].reshape((8,1)))\n",
    "plt.imshow(microstates[0:10].T)\n",
    "# plt.ylim([0,7])\n",
    "plt.show()"
   ]
  },
  {
   "cell_type": "code",
   "execution_count": null,
   "id": "372f505c-40e7-4a1f-9f26-587d47faf239",
   "metadata": {},
   "outputs": [],
   "source": []
  }
 ],
 "metadata": {
  "kernelspec": {
   "display_name": "Python 3 (ipykernel)",
   "language": "python",
   "name": "python3"
  },
  "language_info": {
   "codemirror_mode": {
    "name": "ipython",
    "version": 3
   },
   "file_extension": ".py",
   "mimetype": "text/x-python",
   "name": "python",
   "nbconvert_exporter": "python",
   "pygments_lexer": "ipython3",
   "version": "3.13.2"
  }
 },
 "nbformat": 4,
 "nbformat_minor": 5
}
