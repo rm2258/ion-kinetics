{
 "cells": [
  {
   "cell_type": "code",
   "execution_count": 3,
   "id": "01687056-eafd-4988-8f7d-6d4997cda238",
   "metadata": {},
   "outputs": [],
   "source": [
    "import numpy as np\n",
    "from itertools import product"
   ]
  },
  {
   "cell_type": "code",
   "execution_count": 5,
   "id": "ef75ea65-031c-4a48-84c4-6fb5cb453369",
   "metadata": {},
   "outputs": [],
   "source": [
    "occupancy_states = np.array(list(product([\"K\", \"V\", \"W\"], repeat=5)))"
   ]
  },
  {
   "cell_type": "code",
   "execution_count": 6,
   "id": "281d2d67-2ce2-4b7a-816b-b239de91c04e",
   "metadata": {},
   "outputs": [
    {
     "data": {
      "text/plain": [
       "(243, 5)"
      ]
     },
     "execution_count": 6,
     "metadata": {},
     "output_type": "execute_result"
    }
   ],
   "source": [
    "occupancy_states.shape"
   ]
  },
  {
   "cell_type": "code",
   "execution_count": 7,
   "id": "c0ec7f46-c3d2-4b8f-980e-09288e5586e9",
   "metadata": {},
   "outputs": [
    {
     "data": {
      "text/plain": [
       "243"
      ]
     },
     "execution_count": 7,
     "metadata": {},
     "output_type": "execute_result"
    }
   ],
   "source": [
    "3**5"
   ]
  },
  {
   "cell_type": "code",
   "execution_count": null,
   "id": "7683d364-5b84-4eab-bc2f-20b9113bed1f",
   "metadata": {},
   "outputs": [],
   "source": []
  }
 ],
 "metadata": {
  "kernelspec": {
   "display_name": "Python 3 (ipykernel)",
   "language": "python",
   "name": "python3"
  },
  "language_info": {
   "codemirror_mode": {
    "name": "ipython",
    "version": 3
   },
   "file_extension": ".py",
   "mimetype": "text/x-python",
   "name": "python",
   "nbconvert_exporter": "python",
   "pygments_lexer": "ipython3",
   "version": "3.11.9"
  }
 },
 "nbformat": 4,
 "nbformat_minor": 5
}
