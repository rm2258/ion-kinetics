{
 "cells": [
  {
   "cell_type": "code",
   "execution_count": 1,
   "id": "810f09c0-ee4f-4779-a509-23651d33979d",
   "metadata": {
    "jupyter": {
     "source_hidden": true
    }
   },
   "outputs": [],
   "source": [
    "import matplotlib.pyplot as plt\n",
    "import numpy as np\n",
    "import scipy.linalg\n",
    "import sklearn.decomposition\n",
    "import matplotlib.animation as animation\n",
    "import openmm.unit as u\n",
    "import deeptime as dt\n",
    "import networkx as nx\n",
    "\n",
    "\n",
    "from cycler import cycler\n",
    "plt.rcParams['font.size'] = 7\n",
    "plt.rcParams['font.family'] = 'Calibri'\n",
    "plt.rcParams['mathtext.default'] = 'regular'\n",
    "\n",
    "plt.rcParams['axes.labelpad'] = 0.1\n",
    "plt.rcParams['axes.labelsize'] = 7\n",
    "plt.rcParams['axes.linewidth'] = 0.7\n",
    "colorList = ['#000000', '#FF0000', '#0000FF', '#FF64FF',\n",
    "             '#2192E5', '#009900', '#FF8700', '#F2E100', \n",
    "             '#FFDE3B', '#5A1AF5']\n",
    "plt.rcParams['axes.prop_cycle'] = cycler(color=colorList)\n",
    "plt.rcParams['axes.spines.right'] = True\n",
    "plt.rcParams['axes.spines.top'] = True\n",
    "plt.rcParams['axes.titlepad'] = 0.1\n",
    "plt.rcParams['axes.titlesize'] = 7*1.2\n",
    "\n",
    "plt.rcParams['figure.dpi'] = 300\n",
    "plt.rcParams['figure.figsize'] = (3.25, 2.5)\n",
    "plt.rcParams['figure.labelsize'] = 7\n",
    "plt.rcParams['figure.titlesize'] = 7*1.2\n",
    "\n",
    "plt.rcParams['legend.fancybox'] = False\n",
    "plt.rcParams['legend.fontsize'] = 7\n",
    "plt.rcParams['legend.frameon'] = False\n",
    "plt.rcParams['legend.markerscale'] = 1\n",
    "plt.rcParams['legend.numpoints'] = 1\n",
    "plt.rcParams['legend.title_fontsize'] = 7*1.2\n",
    "\n",
    "plt.rcParams['lines.dash_capstyle'] = 'round'\n",
    "plt.rcParams['lines.dash_joinstyle'] = 'round'\n",
    "plt.rcParams['lines.linewidth'] = 1\n",
    "plt.rcParams['lines.markersize'] = 1\n",
    "\n",
    "plt.rcParams['savefig.dpi'] = 300\n",
    "plt.rcParams['savefig.transparent'] = True\n",
    "plt.rcParams['savefig.bbox'] = 'tight'\n",
    "\n",
    "plt.rcParams['xtick.direction'] = 'in'\n",
    "plt.rcParams['xtick.labelsize'] = 7\n",
    "plt.rcParams['xtick.major.size'] = 3\n",
    "# plt.rcParams['xtick.major.top'] = True\n",
    "plt.rcParams['xtick.major.width'] = 0.6\n",
    "plt.rcParams['xtick.minor.size'] = 1.5\n",
    "plt.rcParams['xtick.minor.visible'] = True\n",
    "# plt.rcParams['xtick.minor.top'] = True\n",
    "plt.rcParams['xtick.minor.width'] = 0.6\n",
    "plt.rcParams['xtick.top'] = True\n",
    "\n",
    "plt.rcParams['ytick.direction'] = 'in'\n",
    "plt.rcParams['ytick.labelsize'] = 7\n",
    "plt.rcParams['ytick.major.size'] = 3\n",
    "# plt.rcParams['ytick.major.right'] = True\n",
    "plt.rcParams['ytick.major.width'] = 0.6\n",
    "plt.rcParams['ytick.minor.size'] = 1.5\n",
    "# plt.rcParams['ytick.minor.right'] = True\n",
    "plt.rcParams['ytick.minor.width'] = 0.6\n",
    "plt.rcParams['ytick.right'] = True\n",
    "plt.rcParams['ytick.minor.visible'] = True"
   ]
  },
  {
   "cell_type": "markdown",
   "id": "cbaccf5c-453d-490f-b1fc-653836f0e751",
   "metadata": {},
   "source": [
    "# Utils"
   ]
  },
  {
   "cell_type": "code",
   "execution_count": 2,
   "id": "c1c8ea39-4f92-4c68-9b05-a8b95aa876c1",
   "metadata": {
    "jupyter": {
     "source_hidden": true
    }
   },
   "outputs": [],
   "source": [
    "def SVD(rateMatrix):\n",
    "    \"\"\" Utility function for SVD of Q matrix\n",
    "        returns the Eigenvalues and Eigenvectors of the Rate Matrix Q\n",
    "    \"\"\"\n",
    "    # it is transpose because the function returns \n",
    "    # the right eigenvec's but we want left eigenvectors\n",
    "    eig_val, eig_vec = np.linalg.eig(rateMatrix.T)\n",
    "    return (eig_val, eig_vec)\n",
    "\n",
    "def Prob_t(uniqueStates, val, vec, time):\n",
    "    \"\"\" returns the time evolution of the probabilites\n",
    "        Note that this can be used for simulating the time evolution of the probabilities and\n",
    "        as the starting point for the construction of a Transition Matrix at the\n",
    "        desired lagtime\n",
    "    \"\"\"\n",
    "    # this works because of how numpy casts when performing the operation\n",
    "    D = np.eye(uniqueStates) * np.exp(val * time)\n",
    "    return np.linalg.inv(vec.T) @ D @ vec.T\n",
    "\n",
    "def MSMtraj(steps, transitionMatrix):\n",
    "    \"\"\" returns the MSM and a discrete time discrete state \n",
    "        trajectory from the Transition Matrix\n",
    "        at the spicified lagtime of shape (steps,)\n",
    "    \"\"\"\n",
    "    MSM_true = dt.markov.msm.MarkovStateModel(transitionMatrix)\n",
    "    traj_discretized = MSM_true.simulate(steps)\n",
    "    return (MSM_true, traj_discretized)"
   ]
  },
  {
   "cell_type": "code",
   "execution_count": 3,
   "id": "870629b8-221e-464f-b31c-7e192474e7e2",
   "metadata": {},
   "outputs": [],
   "source": [
    "def isallowedTransition(i, j):\n",
    "    \"\"\"\n",
    "    Function for determining if i -> j transition is allowed.\n",
    "    \"\"\"\n",
    "    diff = j - i\n",
    "    numForward = np.sum(diff == 1)\n",
    "    numBackward = np.sum(diff == -1)\n",
    "    if numForward == 1 and numBackward == 1:\n",
    "        return 1\n",
    "    elif (numForward == 1 or numBackward == 1) and (diff[0] == 1): #or diff[-1] == 1): # not consider because assymmetric\n",
    "        return 1\n",
    "    return 0"
   ]
  },
  {
   "cell_type": "markdown",
   "id": "76e4f696-8a6d-4de8-8735-410b41c4aeee",
   "metadata": {},
   "source": [
    "# ASEP Model"
   ]
  },
  {
   "cell_type": "markdown",
   "id": "79b845ca-3590-4655-b4a6-d2c72cbd4565",
   "metadata": {},
   "source": [
    "We use 8 sites, $\\alpha=\\beta=p=1$, and $q=\\frac{1}{3}$"
   ]
  },
  {
   "cell_type": "code",
   "execution_count": 4,
   "id": "e79b12a5-d775-4e9f-989a-695eeb46484c",
   "metadata": {},
   "outputs": [],
   "source": [
    "from itertools import combinations, permutations, combinations_with_replacement, product"
   ]
  },
  {
   "cell_type": "code",
   "execution_count": 5,
   "id": "dac0923a-819b-4f63-97cd-fd89c3827318",
   "metadata": {},
   "outputs": [],
   "source": [
    "microstates = np.array(list(product([0,1], repeat=8)))"
   ]
  },
  {
   "cell_type": "code",
   "execution_count": 6,
   "id": "7e28a29c-b82f-4fc6-9197-31e38671825d",
   "metadata": {},
   "outputs": [
    {
     "data": {
      "text/plain": [
       "array([[0, 0, 0, ..., 0, 0, 0],\n",
       "       [0, 0, 0, ..., 0, 0, 1],\n",
       "       [0, 0, 0, ..., 0, 1, 0],\n",
       "       ...,\n",
       "       [1, 1, 1, ..., 1, 0, 1],\n",
       "       [1, 1, 1, ..., 1, 1, 0],\n",
       "       [1, 1, 1, ..., 1, 1, 1]], shape=(256, 8))"
      ]
     },
     "execution_count": 6,
     "metadata": {},
     "output_type": "execute_result"
    }
   ],
   "source": [
    "microstates"
   ]
  },
  {
   "cell_type": "code",
   "execution_count": 7,
   "id": "34bc95a3-9fa8-475c-9d8a-964fd616f7fb",
   "metadata": {},
   "outputs": [
    {
     "data": {
      "text/plain": [
       "((256, 8), 256)"
      ]
     },
     "execution_count": 7,
     "metadata": {},
     "output_type": "execute_result"
    }
   ],
   "source": [
    "microstates.shape, 2**8"
   ]
  },
  {
   "cell_type": "code",
   "execution_count": 8,
   "id": "0dddf155-b6a8-42ef-9b57-3562e3d6c8cc",
   "metadata": {},
   "outputs": [
    {
     "data": {
      "text/plain": [
       "(array([0, 0, 0, 0, 0, 0, 0, 0]), array([0, 0, 0, 0, 0, 0, 1, 0]))"
      ]
     },
     "execution_count": 8,
     "metadata": {},
     "output_type": "execute_result"
    }
   ],
   "source": [
    "microstates[0], microstates[2]"
   ]
  },
  {
   "cell_type": "code",
   "execution_count": 22,
   "id": "e584849b-2374-45f5-89c5-30c3da660d81",
   "metadata": {},
   "outputs": [
    {
     "ename": "ValueError",
     "evalue": "operands could not be broadcast together with shapes (8,) (2,) ",
     "output_type": "error",
     "traceback": [
      "\u001b[31m---------------------------------------------------------------------------\u001b[39m",
      "\u001b[31mValueError\u001b[39m                                Traceback (most recent call last)",
      "\u001b[36mCell\u001b[39m\u001b[36m \u001b[39m\u001b[32mIn[22]\u001b[39m\u001b[32m, line 1\u001b[39m\n\u001b[32m----> \u001b[39m\u001b[32m1\u001b[39m \u001b[43m[\u001b[49m\u001b[32;43m1\u001b[39;49m\u001b[43m,\u001b[49m\u001b[43m \u001b[49m\u001b[43m-\u001b[49m\u001b[32;43m1\u001b[39;49m\u001b[43m]\u001b[49m\u001b[43m \u001b[49m\u001b[38;5;129;43;01min\u001b[39;49;00m\u001b[43m \u001b[49m\u001b[43m(\u001b[49m\u001b[43mmicrostates\u001b[49m\u001b[43m[\u001b[49m\u001b[32;43m2\u001b[39;49m\u001b[43m]\u001b[49m\u001b[43m \u001b[49m\u001b[43m-\u001b[49m\u001b[43m \u001b[49m\u001b[43mmicrostates\u001b[49m\u001b[43m[\u001b[49m\u001b[32;43m1\u001b[39;49m\u001b[43m]\u001b[49m\u001b[43m)\u001b[49m\n",
      "\u001b[31mValueError\u001b[39m: operands could not be broadcast together with shapes (8,) (2,) "
     ]
    }
   ],
   "source": [
    "[1, -1] in (microstates[2] - microstates[1])"
   ]
  },
  {
   "cell_type": "code",
   "execution_count": 20,
   "id": "9d6923da-d5c9-4a74-9f89-1ced746427c1",
   "metadata": {},
   "outputs": [
    {
     "name": "stdout",
     "output_type": "stream",
     "text": [
      "1 2 [0 0 0 0 0 0 0 1] [0 0 0 0 0 0 1 0] [ 0  0  0  0  0  0  1 -1]\n",
      "1 4 [0 0 0 0 0 0 0 1] [0 0 0 0 0 1 0 0] [ 0  0  0  0  0  1  0 -1]\n",
      "1 8 [0 0 0 0 0 0 0 1] [0 0 0 0 1 0 0 0] [ 0  0  0  0  1  0  0 -1]\n",
      "1 16 [0 0 0 0 0 0 0 1] [0 0 0 1 0 0 0 0] [ 0  0  0  1  0  0  0 -1]\n",
      "1 32 [0 0 0 0 0 0 0 1] [0 0 1 0 0 0 0 0] [ 0  0  1  0  0  0  0 -1]\n",
      "1 64 [0 0 0 0 0 0 0 1] [0 1 0 0 0 0 0 0] [ 0  1  0  0  0  0  0 -1]\n",
      "1 128 [0 0 0 0 0 0 0 1] [1 0 0 0 0 0 0 0] [ 1  0  0  0  0  0  0 -1]\n",
      "1 129 [0 0 0 0 0 0 0 1] [1 0 0 0 0 0 0 1] [1 0 0 0 0 0 0 0]\n",
      "1 130 [0 0 0 0 0 0 0 1] [1 0 0 0 0 0 1 0] [ 1  0  0  0  0  0  1 -1]\n",
      "1 132 [0 0 0 0 0 0 0 1] [1 0 0 0 0 1 0 0] [ 1  0  0  0  0  1  0 -1]\n",
      "1 134 [0 0 0 0 0 0 0 1] [1 0 0 0 0 1 1 0] [ 1  0  0  0  0  1  1 -1]\n",
      "1 136 [0 0 0 0 0 0 0 1] [1 0 0 0 1 0 0 0] [ 1  0  0  0  1  0  0 -1]\n",
      "1 138 [0 0 0 0 0 0 0 1] [1 0 0 0 1 0 1 0] [ 1  0  0  0  1  0  1 -1]\n",
      "1 140 [0 0 0 0 0 0 0 1] [1 0 0 0 1 1 0 0] [ 1  0  0  0  1  1  0 -1]\n",
      "1 142 [0 0 0 0 0 0 0 1] [1 0 0 0 1 1 1 0] [ 1  0  0  0  1  1  1 -1]\n",
      "1 144 [0 0 0 0 0 0 0 1] [1 0 0 1 0 0 0 0] [ 1  0  0  1  0  0  0 -1]\n",
      "1 146 [0 0 0 0 0 0 0 1] [1 0 0 1 0 0 1 0] [ 1  0  0  1  0  0  1 -1]\n",
      "1 148 [0 0 0 0 0 0 0 1] [1 0 0 1 0 1 0 0] [ 1  0  0  1  0  1  0 -1]\n",
      "1 150 [0 0 0 0 0 0 0 1] [1 0 0 1 0 1 1 0] [ 1  0  0  1  0  1  1 -1]\n",
      "1 152 [0 0 0 0 0 0 0 1] [1 0 0 1 1 0 0 0] [ 1  0  0  1  1  0  0 -1]\n",
      "1 154 [0 0 0 0 0 0 0 1] [1 0 0 1 1 0 1 0] [ 1  0  0  1  1  0  1 -1]\n",
      "1 156 [0 0 0 0 0 0 0 1] [1 0 0 1 1 1 0 0] [ 1  0  0  1  1  1  0 -1]\n",
      "1 158 [0 0 0 0 0 0 0 1] [1 0 0 1 1 1 1 0] [ 1  0  0  1  1  1  1 -1]\n",
      "1 160 [0 0 0 0 0 0 0 1] [1 0 1 0 0 0 0 0] [ 1  0  1  0  0  0  0 -1]\n",
      "1 162 [0 0 0 0 0 0 0 1] [1 0 1 0 0 0 1 0] [ 1  0  1  0  0  0  1 -1]\n",
      "1 164 [0 0 0 0 0 0 0 1] [1 0 1 0 0 1 0 0] [ 1  0  1  0  0  1  0 -1]\n",
      "1 166 [0 0 0 0 0 0 0 1] [1 0 1 0 0 1 1 0] [ 1  0  1  0  0  1  1 -1]\n",
      "1 168 [0 0 0 0 0 0 0 1] [1 0 1 0 1 0 0 0] [ 1  0  1  0  1  0  0 -1]\n",
      "1 170 [0 0 0 0 0 0 0 1] [1 0 1 0 1 0 1 0] [ 1  0  1  0  1  0  1 -1]\n",
      "1 172 [0 0 0 0 0 0 0 1] [1 0 1 0 1 1 0 0] [ 1  0  1  0  1  1  0 -1]\n",
      "1 174 [0 0 0 0 0 0 0 1] [1 0 1 0 1 1 1 0] [ 1  0  1  0  1  1  1 -1]\n",
      "1 176 [0 0 0 0 0 0 0 1] [1 0 1 1 0 0 0 0] [ 1  0  1  1  0  0  0 -1]\n",
      "1 178 [0 0 0 0 0 0 0 1] [1 0 1 1 0 0 1 0] [ 1  0  1  1  0  0  1 -1]\n",
      "1 180 [0 0 0 0 0 0 0 1] [1 0 1 1 0 1 0 0] [ 1  0  1  1  0  1  0 -1]\n",
      "1 182 [0 0 0 0 0 0 0 1] [1 0 1 1 0 1 1 0] [ 1  0  1  1  0  1  1 -1]\n",
      "1 184 [0 0 0 0 0 0 0 1] [1 0 1 1 1 0 0 0] [ 1  0  1  1  1  0  0 -1]\n",
      "1 186 [0 0 0 0 0 0 0 1] [1 0 1 1 1 0 1 0] [ 1  0  1  1  1  0  1 -1]\n",
      "1 188 [0 0 0 0 0 0 0 1] [1 0 1 1 1 1 0 0] [ 1  0  1  1  1  1  0 -1]\n",
      "1 190 [0 0 0 0 0 0 0 1] [1 0 1 1 1 1 1 0] [ 1  0  1  1  1  1  1 -1]\n",
      "1 192 [0 0 0 0 0 0 0 1] [1 1 0 0 0 0 0 0] [ 1  1  0  0  0  0  0 -1]\n",
      "1 194 [0 0 0 0 0 0 0 1] [1 1 0 0 0 0 1 0] [ 1  1  0  0  0  0  1 -1]\n",
      "1 196 [0 0 0 0 0 0 0 1] [1 1 0 0 0 1 0 0] [ 1  1  0  0  0  1  0 -1]\n",
      "1 198 [0 0 0 0 0 0 0 1] [1 1 0 0 0 1 1 0] [ 1  1  0  0  0  1  1 -1]\n",
      "1 200 [0 0 0 0 0 0 0 1] [1 1 0 0 1 0 0 0] [ 1  1  0  0  1  0  0 -1]\n",
      "1 202 [0 0 0 0 0 0 0 1] [1 1 0 0 1 0 1 0] [ 1  1  0  0  1  0  1 -1]\n",
      "1 204 [0 0 0 0 0 0 0 1] [1 1 0 0 1 1 0 0] [ 1  1  0  0  1  1  0 -1]\n",
      "1 206 [0 0 0 0 0 0 0 1] [1 1 0 0 1 1 1 0] [ 1  1  0  0  1  1  1 -1]\n",
      "1 208 [0 0 0 0 0 0 0 1] [1 1 0 1 0 0 0 0] [ 1  1  0  1  0  0  0 -1]\n",
      "1 210 [0 0 0 0 0 0 0 1] [1 1 0 1 0 0 1 0] [ 1  1  0  1  0  0  1 -1]\n",
      "1 212 [0 0 0 0 0 0 0 1] [1 1 0 1 0 1 0 0] [ 1  1  0  1  0  1  0 -1]\n",
      "1 214 [0 0 0 0 0 0 0 1] [1 1 0 1 0 1 1 0] [ 1  1  0  1  0  1  1 -1]\n",
      "1 216 [0 0 0 0 0 0 0 1] [1 1 0 1 1 0 0 0] [ 1  1  0  1  1  0  0 -1]\n",
      "1 218 [0 0 0 0 0 0 0 1] [1 1 0 1 1 0 1 0] [ 1  1  0  1  1  0  1 -1]\n",
      "1 220 [0 0 0 0 0 0 0 1] [1 1 0 1 1 1 0 0] [ 1  1  0  1  1  1  0 -1]\n",
      "1 222 [0 0 0 0 0 0 0 1] [1 1 0 1 1 1 1 0] [ 1  1  0  1  1  1  1 -1]\n",
      "1 224 [0 0 0 0 0 0 0 1] [1 1 1 0 0 0 0 0] [ 1  1  1  0  0  0  0 -1]\n",
      "1 226 [0 0 0 0 0 0 0 1] [1 1 1 0 0 0 1 0] [ 1  1  1  0  0  0  1 -1]\n",
      "1 228 [0 0 0 0 0 0 0 1] [1 1 1 0 0 1 0 0] [ 1  1  1  0  0  1  0 -1]\n",
      "1 230 [0 0 0 0 0 0 0 1] [1 1 1 0 0 1 1 0] [ 1  1  1  0  0  1  1 -1]\n",
      "1 232 [0 0 0 0 0 0 0 1] [1 1 1 0 1 0 0 0] [ 1  1  1  0  1  0  0 -1]\n",
      "1 234 [0 0 0 0 0 0 0 1] [1 1 1 0 1 0 1 0] [ 1  1  1  0  1  0  1 -1]\n",
      "1 236 [0 0 0 0 0 0 0 1] [1 1 1 0 1 1 0 0] [ 1  1  1  0  1  1  0 -1]\n",
      "1 238 [0 0 0 0 0 0 0 1] [1 1 1 0 1 1 1 0] [ 1  1  1  0  1  1  1 -1]\n",
      "1 240 [0 0 0 0 0 0 0 1] [1 1 1 1 0 0 0 0] [ 1  1  1  1  0  0  0 -1]\n",
      "1 242 [0 0 0 0 0 0 0 1] [1 1 1 1 0 0 1 0] [ 1  1  1  1  0  0  1 -1]\n",
      "1 244 [0 0 0 0 0 0 0 1] [1 1 1 1 0 1 0 0] [ 1  1  1  1  0  1  0 -1]\n",
      "1 246 [0 0 0 0 0 0 0 1] [1 1 1 1 0 1 1 0] [ 1  1  1  1  0  1  1 -1]\n",
      "1 248 [0 0 0 0 0 0 0 1] [1 1 1 1 1 0 0 0] [ 1  1  1  1  1  0  0 -1]\n",
      "1 250 [0 0 0 0 0 0 0 1] [1 1 1 1 1 0 1 0] [ 1  1  1  1  1  0  1 -1]\n",
      "1 252 [0 0 0 0 0 0 0 1] [1 1 1 1 1 1 0 0] [ 1  1  1  1  1  1  0 -1]\n",
      "1 254 [0 0 0 0 0 0 0 1] [1 1 1 1 1 1 1 0] [ 1  1  1  1  1  1  1 -1]\n"
     ]
    }
   ],
   "source": [
    "i = 1\n",
    "for j in range(microstates.shape[0]):\n",
    "    if isallowedTransition(microstates[i], microstates[j]):\n",
    "        print(i, j, microstates[i], microstates[j],\n",
    "              microstates[j] - microstates[i])"
   ]
  },
  {
   "cell_type": "code",
   "execution_count": null,
   "id": "8e491a75-714a-440b-abaa-4729772fec84",
   "metadata": {},
   "outputs": [],
   "source": [
    "Q = "
   ]
  }
 ],
 "metadata": {
  "kernelspec": {
   "display_name": "Python 3 (ipykernel)",
   "language": "python",
   "name": "python3"
  },
  "language_info": {
   "codemirror_mode": {
    "name": "ipython",
    "version": 3
   },
   "file_extension": ".py",
   "mimetype": "text/x-python",
   "name": "python",
   "nbconvert_exporter": "python",
   "pygments_lexer": "ipython3",
   "version": "3.13.2"
  }
 },
 "nbformat": 4,
 "nbformat_minor": 5
}
